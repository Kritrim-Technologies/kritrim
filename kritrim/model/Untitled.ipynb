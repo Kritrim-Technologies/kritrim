{
 "cells": [
  {
   "cell_type": "code",
   "execution_count": 1,
   "metadata": {},
   "outputs": [
    {
     "name": "stderr",
     "output_type": "stream",
     "text": [
      "Using TensorFlow backend.\n"
     ]
    }
   ],
   "source": [
    "import keras\n",
    "from keras.layers import Lambda,Input,InputLayer, Dense, Activation, Dropout, Flatten, Reshape,ActivityRegularization, TimeDistributed\n",
    "from keras.layers.embeddings import Embedding\n",
    "from keras.layers.normalization import BatchNormalization\n",
    "from keras.losses import binary_crossentropy\n",
    "from keras.models import Model, Sequential, load_model\n",
    "from keras.optimizers import Adam, RMSprop, SGD\n",
    "from keras.regularizers import l2\n",
    "from keras.utils import plot_model\n",
    "from keras import backend as K\n",
    "from keras.callbacks import ModelCheckpoint\n",
    "from keras import regularizers"
   ]
  },
  {
   "cell_type": "code",
   "execution_count": 12,
   "metadata": {},
   "outputs": [],
   "source": [
    "import numpy as np\n",
    "import pandas as pd"
   ]
  },
  {
   "cell_type": "code",
   "execution_count": 13,
   "metadata": {
    "scrolled": false
   },
   "outputs": [],
   "source": [
    "x_vecs=np.load('input (1).npy')"
   ]
  },
  {
   "cell_type": "code",
   "execution_count": 14,
   "metadata": {},
   "outputs": [],
   "source": [
    "latent_dim=100\n",
    "latent_inputs=Input(shape=(latent_dim,),name='z_sampling')\n",
    "x=Dense(16*96*35,name='decoder_1st_layer')(latent_inputs)\n",
    "x=Activation('sigmoid')(x)\n",
    "outputs=Reshape((16,96,35))(x)"
   ]
  },
  {
   "cell_type": "code",
   "execution_count": 8,
   "metadata": {},
   "outputs": [],
   "source": [
    "latent_dim=100\n",
    "num_epoch=1000\n",
    "learning_rate=0.001\n",
    "is_AE=False\n",
    "is_VAE=True\n",
    "dropout_rate=0.1\n",
    "epsilon_std=1\n",
    "batch_size=1024\n",
    "num_measures=16\n",
    "latent_dim=100\n",
    "NUM_OFFSETS=16\n",
    "MAX_LENGTH=16\n",
    "BN_M=0.9\n",
    "DO_RATE=dropout_rate\n",
    "\n",
    "latent_inputs=Input(shape=(latent_dim,),name='z_sampling')\n",
    "x=Dense(1600, name='decoder_1st_layer')(latent_inputs)\n",
    "x=Activation('relu')(x)\n",
    "x=BatchNormalization(momentum=BN_M)(x)\n",
    "x=Dropout(DO_RATE)(x)\n",
    "x=Dense(MAX_LENGTH * 200)(x)\n",
    "x=Reshape((MAX_LENGTH, 200))(x)\n",
    "x=Activation('relu')(x)\n",
    "x=TimeDistributed(BatchNormalization(momentum=BN_M))(x)\n",
    "x=Dropout(DO_RATE)(x)\n",
    "x=TimeDistributed(Dense(2000))(x)  \n",
    "x=Activation('relu')(x)\n",
    "x=TimeDistributed(BatchNormalization(momentum=BN_M))(x)\n",
    "x=Dropout(DO_RATE)(x)\n",
    "x=TimeDistributed(Dense(96* 35, activation='sigmoid'))(x)\n",
    "outputs=Reshape((16, 96, 35))(x)\n"
   ]
  },
  {
   "cell_type": "code",
   "execution_count": 9,
   "metadata": {},
   "outputs": [],
   "source": [
    "decoder=Model(latent_inputs,outputs)\n"
   ]
  },
  {
   "cell_type": "code",
   "execution_count": 10,
   "metadata": {},
   "outputs": [
    {
     "data": {
      "text/plain": [
       "[array([[ 0.00680287, -0.03921757, -0.00371298, ..., -0.05226652,\n",
       "          0.00498132,  0.0020843 ],\n",
       "        [ 0.00417534,  0.02108145, -0.01639921, ...,  0.00707051,\n",
       "         -0.020446  , -0.00662569],\n",
       "        [-0.04323403, -0.01310662,  0.00885502, ..., -0.03502665,\n",
       "          0.05613561, -0.0421523 ],\n",
       "        ...,\n",
       "        [ 0.02572788,  0.02941308, -0.05194991, ...,  0.03180371,\n",
       "          0.01372943, -0.02454841],\n",
       "        [ 0.05286638,  0.05586917,  0.02133989, ...,  0.00963674,\n",
       "         -0.00442316,  0.03694326],\n",
       "        [ 0.0091102 ,  0.05284269,  0.04022998, ..., -0.04558751,\n",
       "          0.00915588,  0.02783882]], dtype=float32),\n",
       " array([0., 0., 0., ..., 0., 0., 0.], dtype=float32),\n",
       " array([1., 1., 1., ..., 1., 1., 1.], dtype=float32),\n",
       " array([0., 0., 0., ..., 0., 0., 0.], dtype=float32),\n",
       " array([0., 0., 0., ..., 0., 0., 0.], dtype=float32),\n",
       " array([1., 1., 1., ..., 1., 1., 1.], dtype=float32),\n",
       " array([[-3.25502083e-02, -1.54896677e-02, -3.43513861e-03, ...,\n",
       "         -1.89352557e-02, -8.49999487e-05,  2.78492905e-02],\n",
       "        [-1.78948790e-02, -7.31156021e-03, -3.26577574e-03, ...,\n",
       "          1.13135539e-02, -2.07543001e-03,  1.20817646e-02],\n",
       "        [-3.06289252e-02, -6.55286573e-03, -2.94063296e-02, ...,\n",
       "         -1.79087743e-03, -2.28922050e-02,  9.17109475e-03],\n",
       "        ...,\n",
       "        [ 2.65615433e-02,  6.03478029e-03, -3.32548246e-02, ...,\n",
       "         -5.92310727e-03,  3.16399895e-02, -2.50143241e-02],\n",
       "        [-2.69117579e-02,  2.26322599e-02,  2.74261199e-02, ...,\n",
       "          1.20685585e-02,  2.41706781e-02, -2.57904083e-02],\n",
       "        [ 3.34307887e-02,  2.15250775e-02,  1.15354061e-02, ...,\n",
       "         -4.39421460e-03,  1.07541233e-02,  2.90269442e-02]], dtype=float32),\n",
       " array([0., 0., 0., ..., 0., 0., 0.], dtype=float32),\n",
       " array([1., 1., 1., 1., 1., 1., 1., 1., 1., 1., 1., 1., 1., 1., 1., 1., 1.,\n",
       "        1., 1., 1., 1., 1., 1., 1., 1., 1., 1., 1., 1., 1., 1., 1., 1., 1.,\n",
       "        1., 1., 1., 1., 1., 1., 1., 1., 1., 1., 1., 1., 1., 1., 1., 1., 1.,\n",
       "        1., 1., 1., 1., 1., 1., 1., 1., 1., 1., 1., 1., 1., 1., 1., 1., 1.,\n",
       "        1., 1., 1., 1., 1., 1., 1., 1., 1., 1., 1., 1., 1., 1., 1., 1., 1.,\n",
       "        1., 1., 1., 1., 1., 1., 1., 1., 1., 1., 1., 1., 1., 1., 1., 1., 1.,\n",
       "        1., 1., 1., 1., 1., 1., 1., 1., 1., 1., 1., 1., 1., 1., 1., 1., 1.,\n",
       "        1., 1., 1., 1., 1., 1., 1., 1., 1., 1., 1., 1., 1., 1., 1., 1., 1.,\n",
       "        1., 1., 1., 1., 1., 1., 1., 1., 1., 1., 1., 1., 1., 1., 1., 1., 1.,\n",
       "        1., 1., 1., 1., 1., 1., 1., 1., 1., 1., 1., 1., 1., 1., 1., 1., 1.,\n",
       "        1., 1., 1., 1., 1., 1., 1., 1., 1., 1., 1., 1., 1., 1., 1., 1., 1.,\n",
       "        1., 1., 1., 1., 1., 1., 1., 1., 1., 1., 1., 1., 1.], dtype=float32),\n",
       " array([0., 0., 0., 0., 0., 0., 0., 0., 0., 0., 0., 0., 0., 0., 0., 0., 0.,\n",
       "        0., 0., 0., 0., 0., 0., 0., 0., 0., 0., 0., 0., 0., 0., 0., 0., 0.,\n",
       "        0., 0., 0., 0., 0., 0., 0., 0., 0., 0., 0., 0., 0., 0., 0., 0., 0.,\n",
       "        0., 0., 0., 0., 0., 0., 0., 0., 0., 0., 0., 0., 0., 0., 0., 0., 0.,\n",
       "        0., 0., 0., 0., 0., 0., 0., 0., 0., 0., 0., 0., 0., 0., 0., 0., 0.,\n",
       "        0., 0., 0., 0., 0., 0., 0., 0., 0., 0., 0., 0., 0., 0., 0., 0., 0.,\n",
       "        0., 0., 0., 0., 0., 0., 0., 0., 0., 0., 0., 0., 0., 0., 0., 0., 0.,\n",
       "        0., 0., 0., 0., 0., 0., 0., 0., 0., 0., 0., 0., 0., 0., 0., 0., 0.,\n",
       "        0., 0., 0., 0., 0., 0., 0., 0., 0., 0., 0., 0., 0., 0., 0., 0., 0.,\n",
       "        0., 0., 0., 0., 0., 0., 0., 0., 0., 0., 0., 0., 0., 0., 0., 0., 0.,\n",
       "        0., 0., 0., 0., 0., 0., 0., 0., 0., 0., 0., 0., 0., 0., 0., 0., 0.,\n",
       "        0., 0., 0., 0., 0., 0., 0., 0., 0., 0., 0., 0., 0.], dtype=float32),\n",
       " array([0., 0., 0., 0., 0., 0., 0., 0., 0., 0., 0., 0., 0., 0., 0., 0., 0.,\n",
       "        0., 0., 0., 0., 0., 0., 0., 0., 0., 0., 0., 0., 0., 0., 0., 0., 0.,\n",
       "        0., 0., 0., 0., 0., 0., 0., 0., 0., 0., 0., 0., 0., 0., 0., 0., 0.,\n",
       "        0., 0., 0., 0., 0., 0., 0., 0., 0., 0., 0., 0., 0., 0., 0., 0., 0.,\n",
       "        0., 0., 0., 0., 0., 0., 0., 0., 0., 0., 0., 0., 0., 0., 0., 0., 0.,\n",
       "        0., 0., 0., 0., 0., 0., 0., 0., 0., 0., 0., 0., 0., 0., 0., 0., 0.,\n",
       "        0., 0., 0., 0., 0., 0., 0., 0., 0., 0., 0., 0., 0., 0., 0., 0., 0.,\n",
       "        0., 0., 0., 0., 0., 0., 0., 0., 0., 0., 0., 0., 0., 0., 0., 0., 0.,\n",
       "        0., 0., 0., 0., 0., 0., 0., 0., 0., 0., 0., 0., 0., 0., 0., 0., 0.,\n",
       "        0., 0., 0., 0., 0., 0., 0., 0., 0., 0., 0., 0., 0., 0., 0., 0., 0.,\n",
       "        0., 0., 0., 0., 0., 0., 0., 0., 0., 0., 0., 0., 0., 0., 0., 0., 0.,\n",
       "        0., 0., 0., 0., 0., 0., 0., 0., 0., 0., 0., 0., 0.], dtype=float32),\n",
       " array([1., 1., 1., 1., 1., 1., 1., 1., 1., 1., 1., 1., 1., 1., 1., 1., 1.,\n",
       "        1., 1., 1., 1., 1., 1., 1., 1., 1., 1., 1., 1., 1., 1., 1., 1., 1.,\n",
       "        1., 1., 1., 1., 1., 1., 1., 1., 1., 1., 1., 1., 1., 1., 1., 1., 1.,\n",
       "        1., 1., 1., 1., 1., 1., 1., 1., 1., 1., 1., 1., 1., 1., 1., 1., 1.,\n",
       "        1., 1., 1., 1., 1., 1., 1., 1., 1., 1., 1., 1., 1., 1., 1., 1., 1.,\n",
       "        1., 1., 1., 1., 1., 1., 1., 1., 1., 1., 1., 1., 1., 1., 1., 1., 1.,\n",
       "        1., 1., 1., 1., 1., 1., 1., 1., 1., 1., 1., 1., 1., 1., 1., 1., 1.,\n",
       "        1., 1., 1., 1., 1., 1., 1., 1., 1., 1., 1., 1., 1., 1., 1., 1., 1.,\n",
       "        1., 1., 1., 1., 1., 1., 1., 1., 1., 1., 1., 1., 1., 1., 1., 1., 1.,\n",
       "        1., 1., 1., 1., 1., 1., 1., 1., 1., 1., 1., 1., 1., 1., 1., 1., 1.,\n",
       "        1., 1., 1., 1., 1., 1., 1., 1., 1., 1., 1., 1., 1., 1., 1., 1., 1.,\n",
       "        1., 1., 1., 1., 1., 1., 1., 1., 1., 1., 1., 1., 1.], dtype=float32),\n",
       " array([[-0.04694751, -0.01545284,  0.02180535, ..., -0.02172034,\n",
       "         -0.03623828,  0.03154647],\n",
       "        [ 0.0350599 , -0.02929111,  0.00655822, ...,  0.00885534,\n",
       "         -0.00155393, -0.03481568],\n",
       "        [ 0.02559876, -0.01274213,  0.04025534, ...,  0.01843782,\n",
       "         -0.02173431, -0.01343936],\n",
       "        ...,\n",
       "        [ 0.00640145, -0.00316972, -0.00859001, ..., -0.04556328,\n",
       "          0.02204738, -0.02883316],\n",
       "        [ 0.04758817,  0.0324382 ,  0.03740347, ..., -0.036626  ,\n",
       "         -0.00477848,  0.00110399],\n",
       "        [-0.02454674,  0.02768774, -0.00070855, ..., -0.00596205,\n",
       "         -0.01820834, -0.05179096]], dtype=float32),\n",
       " array([0., 0., 0., ..., 0., 0., 0.], dtype=float32),\n",
       " array([1., 1., 1., ..., 1., 1., 1.], dtype=float32),\n",
       " array([0., 0., 0., ..., 0., 0., 0.], dtype=float32),\n",
       " array([0., 0., 0., ..., 0., 0., 0.], dtype=float32),\n",
       " array([1., 1., 1., ..., 1., 1., 1.], dtype=float32),\n",
       " array([[-0.01127931,  0.00313356, -0.0314721 , ...,  0.00579215,\n",
       "         -0.00644303, -0.00567866],\n",
       "        [ 0.00995912, -0.01851346,  0.00079946, ..., -0.02882651,\n",
       "          0.03245485,  0.00684669],\n",
       "        [-0.02855339,  0.02283567,  0.00654436, ...,  0.03181394,\n",
       "         -0.02026846,  0.00855458],\n",
       "        ...,\n",
       "        [-0.00356405, -0.02576243,  0.00820202, ...,  0.02419432,\n",
       "         -0.00388307,  0.01496182],\n",
       "        [-0.019364  ,  0.01938389, -0.00032171, ..., -0.00528898,\n",
       "          0.02126607,  0.00936402],\n",
       "        [ 0.02559099,  0.02661978,  0.00443897, ..., -0.02917641,\n",
       "         -0.0129709 ,  0.02025106]], dtype=float32),\n",
       " array([0., 0., 0., ..., 0., 0., 0.], dtype=float32)]"
      ]
     },
     "execution_count": 10,
     "metadata": {},
     "output_type": "execute_result"
    }
   ],
   "source": [
    "decoder.get_weights()"
   ]
  },
  {
   "cell_type": "code",
   "execution_count": 11,
   "metadata": {},
   "outputs": [],
   "source": [
    "decoder.load_weights('decoder_weights.h5')\n",
    "decoder.save('dec.h5')"
   ]
  },
  {
   "cell_type": "code",
   "execution_count": 9,
   "metadata": {},
   "outputs": [
    {
     "data": {
      "text/plain": [
       "[array([[ 0.00470167,  0.01311897,  0.02193928, ...,  0.00700491,\n",
       "          0.00230018,  0.001513  ],\n",
       "        [-0.09283218, -0.08589464, -0.09994651, ..., -0.08769749,\n",
       "         -0.08832498, -0.10148872],\n",
       "        [ 0.06991839,  0.08563377,  0.08870849, ...,  0.07776058,\n",
       "          0.08909364,  0.0868546 ],\n",
       "        ...,\n",
       "        [-0.08928997, -0.09182365, -0.08274685, ..., -0.09559567,\n",
       "         -0.0815106 , -0.0826944 ],\n",
       "        [-0.01463328, -0.0139947 , -0.01022033, ..., -0.01532504,\n",
       "         -0.01919311, -0.02011459],\n",
       "        [ 0.08880052,  0.0909861 ,  0.09500765, ...,  0.08233221,\n",
       "          0.1006769 ,  0.08334906]], dtype=float32),\n",
       " array([-0.13572277, -0.13647918, -0.13656248, ..., -0.13585208,\n",
       "        -0.1355859 , -0.1356593 ], dtype=float32)]"
      ]
     },
     "execution_count": 9,
     "metadata": {},
     "output_type": "execute_result"
    }
   ],
   "source": [
    "decoder.get_weights()"
   ]
  },
  {
   "cell_type": "code",
   "execution_count": null,
   "metadata": {},
   "outputs": [],
   "source": [
    "decoder.get_weights()"
   ]
  },
  {
   "cell_type": "code",
   "execution_count": null,
   "metadata": {
    "scrolled": true
   },
   "outputs": [],
   "source": [
    "decoder=load_model(\"dec.h5\")\n",
    "decoder.get_weights()"
   ]
  },
  {
   "cell_type": "code",
   "execution_count": null,
   "metadata": {
    "scrolled": true
   },
   "outputs": [],
   "source": [
    "model=decoder\n",
    "for i in range(10):\n",
    "        song=model.predict(x_vecs[i:i+1])[0]\n",
    "        print(song.shape)\n",
    "        data[:,:,30:65]=song\n",
    "        samples_to_midi(data,str(i)+'.mid',16,0.1)"
   ]
  },
  {
   "cell_type": "code",
   "execution_count": 10,
   "metadata": {},
   "outputs": [],
   "source": [
    "import random"
   ]
  },
  {
   "cell_type": "code",
   "execution_count": 24,
   "metadata": {},
   "outputs": [
    {
     "data": {
      "text/plain": [
       "0"
      ]
     },
     "execution_count": 24,
     "metadata": {},
     "output_type": "execute_result"
    }
   ],
   "source": [
    "random.randrange(10)"
   ]
  },
  {
   "cell_type": "code",
   "execution_count": 25,
   "metadata": {},
   "outputs": [],
   "source": [
    "from tensorflow import Graph"
   ]
  },
  {
   "cell_type": "code",
   "execution_count": 26,
   "metadata": {},
   "outputs": [
    {
     "ename": "NameError",
     "evalue": "name 'tensorflow' is not defined",
     "output_type": "error",
     "traceback": [
      "\u001b[1;31m---------------------------------------------------------------------------\u001b[0m",
      "\u001b[1;31mNameError\u001b[0m                                 Traceback (most recent call last)",
      "\u001b[1;32m<ipython-input-26-b9ca7990e127>\u001b[0m in \u001b[0;36m<module>\u001b[1;34m\u001b[0m\n\u001b[1;32m----> 1\u001b[1;33m \u001b[0mtensorflow\u001b[0m\u001b[1;33m.\u001b[0m\u001b[0m__version__\u001b[0m\u001b[1;33m\u001b[0m\u001b[1;33m\u001b[0m\u001b[0m\n\u001b[0m",
      "\u001b[1;31mNameError\u001b[0m: name 'tensorflow' is not defined"
     ]
    }
   ],
   "source": [
    "tensorflow.__version__"
   ]
  },
  {
   "cell_type": "code",
   "execution_count": 1,
   "metadata": {},
   "outputs": [],
   "source": [
    "import numpy as np"
   ]
  },
  {
   "cell_type": "code",
   "execution_count": 2,
   "metadata": {},
   "outputs": [
    {
     "data": {
      "text/plain": [
       "array([15, 81, 72, 67, 45, 52, 78, 44,  0, 39, 31, 18, 28, 85, 26, 80, 41,\n",
       "       95, 86, 71, 61, 40, 62, 75, 30, 54, 37, 20, 38, 16, 19, 11, 55, 73,\n",
       "       48, 60, 21, 33, 77, 58, 89, 12, 43, 49, 36, 88, 29, 42, 82, 92, 13,\n",
       "       46,  2, 50, 66, 64, 47, 98,  8, 69, 10, 65, 96, 23,  6, 63, 53, 83,\n",
       "       84, 94, 25, 14,  1, 34,  4, 76, 22, 32, 91, 51, 74, 79, 57, 56, 70,\n",
       "        3, 35,  9, 93, 68, 87, 27, 97,  5, 24, 59,  7, 17, 90, 99])"
      ]
     },
     "execution_count": 2,
     "metadata": {},
     "output_type": "execute_result"
    }
   ],
   "source": [
    "np.load('index.npy')"
   ]
  },
  {
   "cell_type": "code",
   "execution_count": null,
   "metadata": {},
   "outputs": [],
   "source": []
  }
 ],
 "metadata": {
  "kernelspec": {
   "display_name": "Python 3",
   "language": "python",
   "name": "python3"
  },
  "language_info": {
   "codemirror_mode": {
    "name": "ipython",
    "version": 3
   },
   "file_extension": ".py",
   "mimetype": "text/x-python",
   "name": "python",
   "nbconvert_exporter": "python",
   "pygments_lexer": "ipython3",
   "version": "3.7.4"
  }
 },
 "nbformat": 4,
 "nbformat_minor": 2
}
