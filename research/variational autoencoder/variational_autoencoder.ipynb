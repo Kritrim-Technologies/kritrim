{
 "cells": [
  {
   "cell_type": "code",
   "execution_count": 1,
   "metadata": {
    "execution": {
     "iopub.execute_input": "2021-03-03T04:00:37.552448Z",
     "iopub.status.busy": "2021-03-03T04:00:37.551750Z",
     "iopub.status.idle": "2021-03-03T04:00:42.299716Z",
     "shell.execute_reply": "2021-03-03T04:00:42.298644Z"
    },
    "papermill": {
     "duration": 4.772104,
     "end_time": "2021-03-03T04:00:42.299846",
     "exception": false,
     "start_time": "2021-03-03T04:00:37.527742",
     "status": "completed"
    },
    "tags": []
   },
   "outputs": [],
   "source": [
    "#import required modules\n",
    "#import tensorflow.compat.v1 as tf\n",
    "#tf.disable_v2_behavior()\n",
    "import tensorflow as tf\n",
    "\n",
    "tf.compat.v1.disable_eager_execution()\n",
    "\n",
    "import sys\n",
    "import os\n",
    "import numpy as np\n",
    "import matplotlib.pyplot as plt\n",
    "\n",
    "\n",
    "import keras\n",
    "from keras.layers import Lambda,Input,InputLayer, Dense, Activation, Dropout, Flatten, Reshape,ActivityRegularization, TimeDistributed\n",
    "from keras.layers.embeddings import Embedding\n",
    "from keras.layers.normalization import BatchNormalization\n",
    "from keras.losses import binary_crossentropy\n",
    "from keras.models import Model, Sequential, load_model\n",
    "from keras.optimizers import Adam, RMSprop, SGD\n",
    "from keras.regularizers import l2\n",
    "from keras.utils import plot_model\n",
    "from keras import backend as K\n",
    "from keras.callbacks import ModelCheckpoint\n",
    "from keras import regularizers"
   ]
  },
  {
   "cell_type": "code",
   "execution_count": 2,
   "metadata": {
    "_cell_guid": "b1076dfc-b9ad-4769-8c92-a6c4dae69d19",
    "_uuid": "8f2839f25d086af736a60e9eeb907d3b93b6e0e5",
    "execution": {
     "iopub.execute_input": "2021-03-03T04:00:42.334627Z",
     "iopub.status.busy": "2021-03-03T04:00:42.333880Z",
     "iopub.status.idle": "2021-03-03T04:00:51.454450Z",
     "shell.execute_reply": "2021-03-03T04:00:51.453894Z"
    },
    "papermill": {
     "duration": 9.139658,
     "end_time": "2021-03-03T04:00:51.454560",
     "exception": false,
     "start_time": "2021-03-03T04:00:42.314902",
     "status": "completed"
    },
    "tags": []
   },
   "outputs": [
    {
     "name": "stdout",
     "output_type": "stream",
     "text": [
      "Collecting mido\r\n",
      "  Downloading mido-1.2.9-py2.py3-none-any.whl (52 kB)\r\n",
      "\u001b[K     |████████████████████████████████| 52 kB 432 kB/s \r\n",
      "\u001b[?25hInstalling collected packages: mido\r\n",
      "Successfully installed mido-1.2.9\r\n",
      "\u001b[33mWARNING: You are using pip version 20.2.1; however, version 21.0.1 is available.\r\n",
      "You should consider upgrading via the '/opt/conda/bin/python3.7 -m pip install --upgrade pip' command.\u001b[0m\r\n"
     ]
    }
   ],
   "source": [
    "!pip install mido\n",
    "sys.path.insert(1,'../input/pythonscript')\n",
    "import midi"
   ]
  },
  {
   "cell_type": "code",
   "execution_count": 3,
   "metadata": {
    "execution": {
     "iopub.execute_input": "2021-03-03T04:00:51.494248Z",
     "iopub.status.busy": "2021-03-03T04:00:51.493672Z",
     "iopub.status.idle": "2021-03-03T04:00:52.055962Z",
     "shell.execute_reply": "2021-03-03T04:00:52.055322Z"
    },
    "papermill": {
     "duration": 0.583674,
     "end_time": "2021-03-03T04:00:52.056060",
     "exception": false,
     "start_time": "2021-03-03T04:00:51.472386",
     "status": "completed"
    },
    "tags": []
   },
   "outputs": [],
   "source": [
    "#load data\n",
    "#data is preprocessed already on local machine\n",
    "lengths=np.load('../input/autoencoderdata/lengths.npy')\n",
    "samples=np.load('../input/autoencoderdata/samples.npy')\n",
    "min_note,max_note=tuple(np.load('../input/autoencoderdata/min_max_note.npy'))"
   ]
  },
  {
   "cell_type": "code",
   "execution_count": 4,
   "metadata": {
    "execution": {
     "iopub.execute_input": "2021-03-03T04:00:52.096135Z",
     "iopub.status.busy": "2021-03-03T04:00:52.095626Z",
     "iopub.status.idle": "2021-03-03T04:00:52.101517Z",
     "shell.execute_reply": "2021-03-03T04:00:52.100960Z"
    },
    "papermill": {
     "duration": 0.027903,
     "end_time": "2021-03-03T04:00:52.101605",
     "exception": false,
     "start_time": "2021-03-03T04:00:52.073702",
     "status": "completed"
    },
    "tags": []
   },
   "outputs": [
    {
     "data": {
      "text/plain": [
       "(13977, 96, 35)"
      ]
     },
     "execution_count": 4,
     "metadata": {},
     "output_type": "execute_result"
    }
   ],
   "source": [
    "samples.shape"
   ]
  },
  {
   "cell_type": "code",
   "execution_count": 5,
   "metadata": {
    "execution": {
     "iopub.execute_input": "2021-03-03T04:00:52.146288Z",
     "iopub.status.busy": "2021-03-03T04:00:52.145199Z",
     "iopub.status.idle": "2021-03-03T04:00:52.443807Z",
     "shell.execute_reply": "2021-03-03T04:00:52.444389Z"
    },
    "papermill": {
     "duration": 0.32417,
     "end_time": "2021-03-03T04:00:52.444535",
     "exception": false,
     "start_time": "2021-03-03T04:00:52.120365",
     "status": "completed"
    },
    "tags": []
   },
   "outputs": [
    {
     "name": "stdout",
     "output_type": "stream",
     "text": [
      "number of sample with 0,1,2,3,4,5 note: [1245156, 96479, 157, 0, 0, 0]\n"
     ]
    },
    {
     "data": {
      "image/png": "[encoded data removed]",
      "text/plain": [
       "<Figure size 900x600 with 1 Axes>"
      ]
     },
     "metadata": {
      "needs_background": "light"
     },
     "output_type": "display_data"
    },
    {
     "data": {
      "text/plain": [
       "<Figure size 432x288 with 0 Axes>"
      ]
     },
     "metadata": {},
     "output_type": "display_data"
    }
   ],
   "source": [
    "#create folder for different steps\n",
    "create_file=['input','training','analysis','output']\n",
    "for file in create_file:\n",
    "    try:\n",
    "        os.mkdir(file)\n",
    "    except:\n",
    "        continue\n",
    "        \n",
    "        \n",
    "        \n",
    "#analyze data samples\n",
    "a=np.sum(samples,axis=2)\n",
    "n=[]\n",
    "for i in range(6):\n",
    "    n.append(len(np.where(a==i)[0]))\n",
    "print('number of sample with 0,1,2,3,4,5 note:',n)\n",
    "\n",
    "plt.figure(dpi=150)\n",
    "plt.bar(range(6),n)\n",
    "plt.ylabel('number of sample')\n",
    "plt.xlabel('number of active notes')\n",
    "plt.show()\n",
    "plt.savefig('input/num_sample_vs_num_active_notes.png')"
   ]
  },
  {
   "cell_type": "code",
   "execution_count": 6,
   "metadata": {
    "execution": {
     "iopub.execute_input": "2021-03-03T04:00:52.491028Z",
     "iopub.status.busy": "2021-03-03T04:00:52.489170Z",
     "iopub.status.idle": "2021-03-03T04:00:52.491763Z",
     "shell.execute_reply": "2021-03-03T04:00:52.492219Z"
    },
    "papermill": {
     "duration": 0.027574,
     "end_time": "2021-03-03T04:00:52.492331",
     "exception": false,
     "start_time": "2021-03-03T04:00:52.464757",
     "status": "completed"
    },
    "tags": []
   },
   "outputs": [],
   "source": [
    "#if trainied model already exists\n",
    "model_file='../input/autoencoder-data/training/weight.h5'\n",
    "is_train=True\n",
    "model_exist=True"
   ]
  },
  {
   "cell_type": "code",
   "execution_count": 7,
   "metadata": {
    "execution": {
     "iopub.execute_input": "2021-03-03T04:00:52.541329Z",
     "iopub.status.busy": "2021-03-03T04:00:52.539426Z",
     "iopub.status.idle": "2021-03-03T04:00:52.541951Z",
     "shell.execute_reply": "2021-03-03T04:00:52.542370Z"
    },
    "papermill": {
     "duration": 0.028951,
     "end_time": "2021-03-03T04:00:52.542498",
     "exception": false,
     "start_time": "2021-03-03T04:00:52.513547",
     "status": "completed"
    },
    "tags": []
   },
   "outputs": [],
   "source": [
    "#initializations\n",
    "num_epoch=1000\n",
    "learning_rate=0.001\n",
    "is_AE=False\n",
    "is_VAE=True\n",
    "dropout_rate=0.1\n",
    "epsilon_std=1\n",
    "batch_size=1024\n",
    "num_measures=16\n",
    "latent_dim=100\n"
   ]
  },
  {
   "cell_type": "code",
   "execution_count": 8,
   "metadata": {
    "execution": {
     "iopub.execute_input": "2021-03-03T04:00:52.588739Z",
     "iopub.status.busy": "2021-03-03T04:00:52.587994Z",
     "iopub.status.idle": "2021-03-03T04:00:52.591335Z",
     "shell.execute_reply": "2021-03-03T04:00:52.591832Z"
    },
    "papermill": {
     "duration": 0.029086,
     "end_time": "2021-03-03T04:00:52.591941",
     "exception": false,
     "start_time": "2021-03-03T04:00:52.562855",
     "status": "completed"
    },
    "tags": []
   },
   "outputs": [
    {
     "data": {
      "text/plain": [
       "'\\n#ready data for a input to a network\\nnetwork_input=[]\\ntotal_length=0\\n\\nfor length in lengths[0:1000]:\\n    temp=np.concatenate((samples[total_length:total_length+length],samples[total_length:total_length+length]),axis=0)\\n    if(length==8):\\n        network_input.append(temp) \\n    \\n    elif(length>8 and length<16):\\n        for i in range(temp.shape[0]%16):\\n            network_input.append(temp[i:i+16])     \\n    \\n    else:\\n        for i in range(length):\\n            network_input.append(temp[i:i+16])\\n    total_length=total_length+length\\n\\n\\nnetwork_input=np.concatenate(network_input).reshape(-1,16,96,35)\\nprint(\"Network_input_shape:\",network_input.shape)\\n\\n#free up some ram memory\\ndel lengths\\ndel samples\\n'"
      ]
     },
     "execution_count": 8,
     "metadata": {},
     "output_type": "execute_result"
    }
   ],
   "source": [
    "\"\"\"\n",
    "#ready data for a input to a network\n",
    "network_input=[]\n",
    "total_length=0\n",
    "\n",
    "for length in lengths[0:1000]:\n",
    "    temp=np.concatenate((samples[total_length:total_length+length],samples[total_length:total_length+length]),axis=0)\n",
    "    if(length==8):\n",
    "        network_input.append(temp) \n",
    "    \n",
    "    elif(length>8 and length<16):\n",
    "        for i in range(temp.shape[0]%16):\n",
    "            network_input.append(temp[i:i+16])     \n",
    "    \n",
    "    else:\n",
    "        for i in range(length):\n",
    "            network_input.append(temp[i:i+16])\n",
    "    total_length=total_length+length\n",
    "\n",
    "\n",
    "network_input=np.concatenate(network_input).reshape(-1,16,96,35)\n",
    "print(\"Network_input_shape:\",network_input.shape)\n",
    "\n",
    "#free up some ram memory\n",
    "del lengths\n",
    "del samples\n",
    "\"\"\""
   ]
  },
  {
   "cell_type": "code",
   "execution_count": 9,
   "metadata": {
    "execution": {
     "iopub.execute_input": "2021-03-03T04:00:52.643377Z",
     "iopub.status.busy": "2021-03-03T04:00:52.639435Z",
     "iopub.status.idle": "2021-03-03T04:00:53.506716Z",
     "shell.execute_reply": "2021-03-03T04:00:53.506209Z"
    },
    "papermill": {
     "duration": 0.894494,
     "end_time": "2021-03-03T04:00:53.506823",
     "exception": false,
     "start_time": "2021-03-03T04:00:52.612329",
     "status": "completed"
    },
    "tags": []
   },
   "outputs": [
    {
     "name": "stdout",
     "output_type": "stream",
     "text": [
      "Loading Data...\n",
      "Loaded 13977 samples from 490 songs.\n",
      "13977\n",
      "Padding Songs...\n"
     ]
    }
   ],
   "source": [
    "NUM_OFFSETS=16\n",
    "MAX_LENGTH=16\n",
    "print(\"Loading Data...\")\n",
    "y_samples = samples\n",
    "y_lengths = lengths\n",
    "num_samples = y_samples.shape[0]\n",
    "num_songs = y_lengths.shape[0]\n",
    "print(\"Loaded \" + str(num_samples) + \" samples from \" + str(num_songs) + \" songs.\")\n",
    "print(np.sum(y_lengths))\n",
    "assert(np.sum(y_lengths) == num_samples)\n",
    "\n",
    "print(\"Padding Songs...\")\n",
    "x_shape = (num_songs * NUM_OFFSETS, 1)\n",
    "y_shape = (num_songs * NUM_OFFSETS, MAX_LENGTH) + y_samples.shape[1:]\n",
    "network_input = np.zeros(y_shape, dtype=y_samples.dtype)\n",
    "cur_ix = 0\n",
    "for i in range(num_songs):\n",
    "\tfor ofs in range(NUM_OFFSETS):\n",
    "\t\tix = i*NUM_OFFSETS + ofs\n",
    "\t\tend_ix = cur_ix + y_lengths[i]\n",
    "\t\tfor j in range(MAX_LENGTH):\n",
    "\t\t\tk = (j + ofs) % (end_ix - cur_ix)\n",
    "\t\t\tnetwork_input[ix,j] = y_samples[cur_ix + k]\n",
    "\tcur_ix = end_ix\n",
    "assert(end_ix == num_samples)\n",
    "\n",
    "test_ix = 0\n",
    "y_test_song = np.copy(network_input[test_ix:test_ix+1])\n",
    "\n",
    "midi.samples_to_midi(y_test_song[0], 'gt.mid', 16)\n",
    "#np.save('y_orig.npy',y_orig)"
   ]
  },
  {
   "cell_type": "code",
   "execution_count": 10,
   "metadata": {
    "execution": {
     "iopub.execute_input": "2021-03-03T04:00:53.559572Z",
     "iopub.status.busy": "2021-03-03T04:00:53.558356Z",
     "iopub.status.idle": "2021-03-03T04:00:54.252885Z",
     "shell.execute_reply": "2021-03-03T04:00:54.253337Z"
    },
    "papermill": {
     "duration": 0.726617,
     "end_time": "2021-03-03T04:00:54.253462",
     "exception": false,
     "start_time": "2021-03-03T04:00:53.526845",
     "status": "completed"
    },
    "tags": []
   },
   "outputs": [
    {
     "data": {
      "image/png": "[encoded data removed]",
      "text/plain": [
       "<Figure size 3000x300 with 16 Axes>"
      ]
     },
     "metadata": {
      "needs_background": "light"
     },
     "output_type": "display_data"
    }
   ],
   "source": [
    "#plot 1st data on network_input\n",
    "fig,axes=plt.subplots(nrows=2,ncols=8,figsize=(20,2),dpi=150)\n",
    "\n",
    "for i in range(16):\n",
    "    axes[i//8,i%8].imshow(network_input[4,i,:,:].T,cmap='gray')\n",
    "    axes[i//8,i%8].set_axis_off()\n",
    "fig.savefig('input/midi_piano_roll.png')"
   ]
  },
  {
   "cell_type": "code",
   "execution_count": 11,
   "metadata": {
    "execution": {
     "iopub.execute_input": "2021-03-03T04:00:54.304524Z",
     "iopub.status.busy": "2021-03-03T04:00:54.303825Z",
     "iopub.status.idle": "2021-03-03T04:00:54.306725Z",
     "shell.execute_reply": "2021-03-03T04:00:54.306295Z"
    },
    "papermill": {
     "duration": 0.030684,
     "end_time": "2021-03-03T04:00:54.306814",
     "exception": false,
     "start_time": "2021-03-03T04:00:54.276130",
     "status": "completed"
    },
    "tags": []
   },
   "outputs": [],
   "source": [
    "def sampling(args):\n",
    "    z_mean, z_log_sigma = args\n",
    "    epsilon = K.random_normal(shape=K.shape(z_mean),mean=0., stddev=0.005)\n",
    "    return z_mean + K.exp(z_log_sigma) * epsilon\n",
    "\n",
    "def loss(x,x_decoded_mean):\n",
    "    xent_loss = binary_crossentropy(x, x_decoded_mean)\n",
    "    kl_loss = -  0.5*K.mean(1 + z_log_sigma - K.square(z_mean) - K.exp(z_log_sigma), axis=None)\n",
    "    vae_loss=xent_loss+kl_loss\n",
    "    return vae_loss\n",
    "\n",
    "    "
   ]
  },
  {
   "cell_type": "code",
   "execution_count": 12,
   "metadata": {
    "execution": {
     "iopub.execute_input": "2021-03-03T04:00:54.366787Z",
     "iopub.status.busy": "2021-03-03T04:00:54.360750Z",
     "iopub.status.idle": "2021-03-03T04:00:54.369319Z",
     "shell.execute_reply": "2021-03-03T04:00:54.368762Z"
    },
    "papermill": {
     "duration": 0.042095,
     "end_time": "2021-03-03T04:00:54.369406",
     "exception": false,
     "start_time": "2021-03-03T04:00:54.327311",
     "status": "completed"
    },
    "tags": []
   },
   "outputs": [],
   "source": [
    "\"\"\"\n",
    "def encoder():\n",
    "    inputs=Input(shape=network_input.shape[1:])\n",
    "    x=Reshape((1,network_input.shape[1]*network_input.shape[2]*network_input.shape[3]))(inputs)\n",
    "    x=Activation('relu')(x)\n",
    "    z_mean=Dense(latent_dim)(x)\n",
    "    z_log_sigma=Dense(latent_dim,kernel_initializer='zeros',bias_initializer='zeros')(x)\n",
    "    z = Lambda(sampling, output_shape=(latent_dim,),name='bottleneck')([z_mean, z_log_sigma])\n",
    "    return inputs,z,z_mean,z_log_sigma\n",
    "\n",
    "def decoder():\n",
    "    latent_inputs=Input(shape=(latent_dim,),name='z_sampling')\n",
    "    x=Dense(network_input.shape[1]*network_input.shape[2]*network_input.shape[3],name='decoder_1st_layer')(latent_inputs)\n",
    "    x=Activation('sigmoid')(x)\n",
    "    outputs=Reshape((network_input.shape[1:]))(x)\n",
    "    return latent_inputs,outputs\n",
    "    \n",
    "\"\"\"\n",
    "BN_M=0.9\n",
    "DO_RATE=dropout_rate\n",
    "MAX_LENGTH=16\n",
    "def encoder():\n",
    "    inputs=Input(shape=network_input.shape[1:],name='input')\n",
    "    x=Reshape((network_input.shape[1],96*35),name=\"Reshape_input\")(inputs)\n",
    "    x=TimeDistributed(Dense(2000, activation='relu'),name='measure_slice')(x)\n",
    "    x=TimeDistributed(BatchNormalization(momentum=BN_M),name=\"Batch_norm1\")(x)\n",
    "    x=Dropout(DO_RATE)(x)\n",
    "    x=TimeDistributed(Dense(200, activation='relu'),name=\"\")(x)\n",
    "    x=TimeDistributed(BatchNormalization(momentum=BN_M),name=\"\")(x)\n",
    "    x=Dropout(DO_RATE,name=\"\")(x)\n",
    "    x=Flatten(name=\"\")(x)\n",
    "    x=Dense(1600, activation='relu',name=\"\")(x)\n",
    "    z_mean=Dense(latent_dim,name=\"mean\")(x)\n",
    "    z_log_sigma=Dense(latent_dim,kernel_initializer='zeros',bias_initializer='zeros',name=\"log_standard_deviation\")(x)\n",
    "    z = Lambda(sampling, output_shape=(latent_dim,),name='bottleneck_layer')([z_mean, z_log_sigma])\n",
    "    return inputs,z,z_mean,z_log_sigma\n",
    "def decoder():\n",
    "    latent_inputs=Input(shape=(latent_dim,),name='z_sampling')\n",
    "    x=Dense(1600, activation='relu', name='')(latent_inputs)\n",
    "    x=BatchNormalization(momentum=BN_M,name=\"\")(x)\n",
    "    x=Dropout(DO_RATE,name=\"\")(x)\n",
    "    x=Dense(MAX_LENGTH * 200,activation='relu',name=\"\")(x)\n",
    "    x=Reshape((MAX_LENGTH, 200),name=\"\")(x)\n",
    "    x=TimeDistributed(BatchNormalization(momentum=BN_M),name=\"\")(x)\n",
    "    x=Dropout(DO_RATE,name=\"\")(x)\n",
    "    x=TimeDistributed(Dense(2000,activation='relu'),name=\"\")(x)  \n",
    "    x=TimeDistributed(BatchNormalization(momentum=BN_M),name=\"\")(x)\n",
    "    x=Dropout(DO_RATE,name=\"\")(x)\n",
    "    x=TimeDistributed(Dense(network_input.shape[2] * network_input.shape[3], activation='sigmoid'),name=\"\")(x)\n",
    "    outputs=Reshape((network_input.shape[1], network_input.shape[2], network_input.shape[3]),name=\"\")(x)\n",
    "    return latent_inputs,outputs"
   ]
  },
  {
   "cell_type": "code",
   "execution_count": 13,
   "metadata": {
    "execution": {
     "iopub.execute_input": "2021-03-03T04:00:54.418722Z",
     "iopub.status.busy": "2021-03-03T04:00:54.418138Z",
     "iopub.status.idle": "2021-03-03T04:00:57.063008Z",
     "shell.execute_reply": "2021-03-03T04:00:57.062519Z"
    },
    "papermill": {
     "duration": 2.672634,
     "end_time": "2021-03-03T04:00:57.063147",
     "exception": false,
     "start_time": "2021-03-03T04:00:54.390513",
     "status": "completed"
    },
    "tags": []
   },
   "outputs": [],
   "source": [
    "\n",
    "inputs,z,z_mean,z_log_sigma=encoder()\n",
    "latent_inputs,outputs=decoder()\n",
    "enc=Model(inputs,[z_mean,z_log_sigma,z],name='encoder')\n",
    "dec=Model(latent_inputs,outputs,name='decoder')\n",
    "outputs=dec(enc(inputs)[2])\n",
    "vae=Model(inputs,outputs,name='vae')\n",
    "plot_model(enc, to_file='training/enc.png', show_shapes=True,show_layer_names=False,dpi=200)\n",
    "plot_model(dec, to_file='training/dec.png', show_shapes=True,show_layer_names=False,dpi=200)\n",
    "plot_model(vae, to_file='training/model.png', show_shapes=True,show_layer_names=False,dpi=200)\n",
    "vae.compile(optimizer=Adam(lr=learning_rate), loss=loss)\n"
   ]
  },
  {
   "cell_type": "code",
   "execution_count": 14,
   "metadata": {
    "execution": {
     "iopub.execute_input": "2021-03-03T04:00:57.140175Z",
     "iopub.status.busy": "2021-03-03T04:00:57.139325Z",
     "iopub.status.idle": "2021-03-03T04:01:02.261485Z",
     "shell.execute_reply": "2021-03-03T04:01:02.260925Z"
    },
    "papermill": {
     "duration": 5.176641,
     "end_time": "2021-03-03T04:01:02.261604",
     "exception": false,
     "start_time": "2021-03-03T04:00:57.084963",
     "status": "completed"
    },
    "tags": []
   },
   "outputs": [],
   "source": [
    "if(model_exist):\n",
    "    vae.load_weights(model_file)"
   ]
  },
  {
   "cell_type": "code",
   "execution_count": 15,
   "metadata": {
    "execution": {
     "iopub.execute_input": "2021-03-03T04:01:02.309380Z",
     "iopub.status.busy": "2021-03-03T04:01:02.308815Z",
     "iopub.status.idle": "2021-03-03T04:01:02.314433Z",
     "shell.execute_reply": "2021-03-03T04:01:02.313940Z"
    },
    "papermill": {
     "duration": 0.031093,
     "end_time": "2021-03-03T04:01:02.314527",
     "exception": false,
     "start_time": "2021-03-03T04:01:02.283434",
     "status": "completed"
    },
    "tags": []
   },
   "outputs": [
    {
     "data": {
      "text/plain": [
       "(7840, 16, 96, 35)"
      ]
     },
     "execution_count": 15,
     "metadata": {},
     "output_type": "execute_result"
    }
   ],
   "source": [
    "network_input.shape"
   ]
  },
  {
   "cell_type": "code",
   "execution_count": 16,
   "metadata": {
    "execution": {
     "iopub.execute_input": "2021-03-03T04:01:02.376530Z",
     "iopub.status.busy": "2021-03-03T04:01:02.375712Z",
     "iopub.status.idle": "2021-03-03T04:30:34.703299Z",
     "shell.execute_reply": "2021-03-03T04:30:34.559608Z"
    },
    "papermill": {
     "duration": 1772.367131,
     "end_time": "2021-03-03T04:30:34.703401",
     "exception": false,
     "start_time": "2021-03-03T04:01:02.336270",
     "status": "completed"
    },
    "tags": []
   },
   "outputs": [
    {
     "name": "stdout",
     "output_type": "stream",
     "text": [
      "Train on 7448 samples, validate on 392 samples\n",
      "Epoch 1/200\n",
      "7424/7448 [============================>.] - ETA: 0s - loss: 0.0089\n",
      "Epoch 00001: loss improved from inf to 0.00890, saving model to training/weight.h5\n",
      "7448/7448 [==============================] - 9s 1ms/sample - loss: 0.0089 - val_loss: 0.0081\n",
      "Epoch 2/200\n",
      "7448/7448 [==============================] - ETA: 0s - loss: 0.0085\n",
      "Epoch 00002: loss improved from 0.00890 to 0.00855, saving model to training/weight.h5\n",
      "7448/7448 [==============================] - 9s 1ms/sample - loss: 0.0085 - val_loss: 0.0084\n",
      "Epoch 3/200\n",
      "7448/7448 [==============================] - ETA: 0s - loss: 0.0083\n",
      "Epoch 00003: loss improved from 0.00855 to 0.00826, saving model to training/weight.h5\n",
      "7448/7448 [==============================] - 9s 1ms/sample - loss: 0.0083 - val_loss: 0.0095\n",
      "Epoch 4/200\n",
      "7448/7448 [==============================] - ETA: 0s - loss: 0.0083\n",
      "Epoch 00004: loss did not improve from 0.00826\n",
      "7448/7448 [==============================] - 8s 1ms/sample - loss: 0.0083 - val_loss: 0.0080\n",
      "Epoch 5/200\n",
      "7424/7448 [============================>.] - ETA: 0s - loss: 0.0082\n",
      "Epoch 00005: loss improved from 0.00826 to 0.00820, saving model to training/weight.h5\n",
      "7448/7448 [==============================] - 9s 1ms/sample - loss: 0.0082 - val_loss: 0.0080\n",
      "Epoch 6/200\n",
      "7424/7448 [============================>.] - ETA: 0s - loss: 0.0080\n",
      "Epoch 00006: loss improved from 0.00820 to 0.00795, saving model to training/weight.h5\n",
      "7448/7448 [==============================] - 9s 1ms/sample - loss: 0.0080 - val_loss: 0.0081\n",
      "Epoch 7/200\n",
      "7440/7448 [============================>.] - ETA: 0s - loss: 0.0080\n",
      "Epoch 00007: loss did not improve from 0.00795\n",
      "7448/7448 [==============================] - 9s 1ms/sample - loss: 0.0080 - val_loss: 0.0082\n",
      "Epoch 8/200\n",
      "7448/7448 [==============================] - ETA: 0s - loss: 0.0078\n",
      "Epoch 00008: loss improved from 0.00795 to 0.00779, saving model to training/weight.h5\n",
      "7448/7448 [==============================] - 9s 1ms/sample - loss: 0.0078 - val_loss: 0.0080\n",
      "Epoch 9/200\n",
      "7448/7448 [==============================] - ETA: 0s - loss: 0.0078\n",
      "Epoch 00009: loss did not improve from 0.00779\n",
      "7448/7448 [==============================] - 9s 1ms/sample - loss: 0.0078 - val_loss: 0.0080\n",
      "Epoch 10/200\n",
      "7440/7448 [============================>.] - ETA: 0s - loss: 0.0076\n",
      "Epoch 00010: loss improved from 0.00779 to 0.00763, saving model to training/weight.h5\n",
      "7448/7448 [==============================] - 9s 1ms/sample - loss: 0.0076 - val_loss: 0.0081\n",
      "Epoch 11/200\n",
      "7440/7448 [============================>.] - ETA: 0s - loss: 0.0080\n",
      "Epoch 00011: loss did not improve from 0.00763\n",
      "7448/7448 [==============================] - 8s 1ms/sample - loss: 0.0080 - val_loss: 0.0083\n",
      "Epoch 12/200\n",
      "7448/7448 [==============================] - ETA: 0s - loss: 0.0081\n",
      "Epoch 00012: loss did not improve from 0.00763\n",
      "7448/7448 [==============================] - 8s 1ms/sample - loss: 0.0081 - val_loss: 0.0086\n",
      "Epoch 13/200\n",
      "7440/7448 [============================>.] - ETA: 0s - loss: 0.0077\n",
      "Epoch 00013: loss did not improve from 0.00763\n",
      "7448/7448 [==============================] - 9s 1ms/sample - loss: 0.0077 - val_loss: 0.0081\n",
      "Epoch 14/200\n",
      "7424/7448 [============================>.] - ETA: 0s - loss: 0.0076\n",
      "Epoch 00014: loss improved from 0.00763 to 0.00755, saving model to training/weight.h5\n",
      "7448/7448 [==============================] - 9s 1ms/sample - loss: 0.0076 - val_loss: 0.0080\n",
      "Epoch 15/200\n",
      "7440/7448 [============================>.] - ETA: 0s - loss: 0.0074\n",
      "Epoch 00015: loss improved from 0.00755 to 0.00743, saving model to training/weight.h5\n",
      "7448/7448 [==============================] - 9s 1ms/sample - loss: 0.0074 - val_loss: 0.0080\n",
      "Epoch 16/200\n",
      "7448/7448 [==============================] - ETA: 0s - loss: 0.0074\n",
      "Epoch 00016: loss did not improve from 0.00743\n",
      "7448/7448 [==============================] - 9s 1ms/sample - loss: 0.0074 - val_loss: 0.0081\n",
      "Epoch 17/200\n",
      "7424/7448 [============================>.] - ETA: 0s - loss: 0.0076\n",
      "Epoch 00017: loss did not improve from 0.00743\n",
      "7448/7448 [==============================] - 8s 1ms/sample - loss: 0.0076 - val_loss: 0.0083\n",
      "Epoch 18/200\n",
      "7440/7448 [============================>.] - ETA: 0s - loss: 0.0076\n",
      "Epoch 00018: loss did not improve from 0.00743\n",
      "7448/7448 [==============================] - 9s 1ms/sample - loss: 0.0076 - val_loss: 0.0080\n",
      "Epoch 19/200\n",
      "7408/7448 [============================>.] - ETA: 0s - loss: 0.0074\n",
      "Epoch 00019: loss improved from 0.00743 to 0.00738, saving model to training/weight.h5\n",
      "7448/7448 [==============================] - 9s 1ms/sample - loss: 0.0074 - val_loss: 0.0081\n",
      "Epoch 20/200\n",
      "7408/7448 [============================>.] - ETA: 0s - loss: 0.0073\n",
      "Epoch 00020: loss improved from 0.00738 to 0.00730, saving model to training/weight.h5\n",
      "7448/7448 [==============================] - 9s 1ms/sample - loss: 0.0073 - val_loss: 0.0080\n",
      "Epoch 21/200\n",
      "7424/7448 [============================>.] - ETA: 0s - loss: 0.0072\n",
      "Epoch 00021: loss improved from 0.00730 to 0.00723, saving model to training/weight.h5\n",
      "7448/7448 [==============================] - 9s 1ms/sample - loss: 0.0072 - val_loss: 0.0083\n",
      "Epoch 22/200\n",
      "7440/7448 [============================>.] - ETA: 0s - loss: 0.0072\n",
      "Epoch 00022: loss improved from 0.00723 to 0.00719, saving model to training/weight.h5\n",
      "7448/7448 [==============================] - 9s 1ms/sample - loss: 0.0072 - val_loss: 0.0082\n",
      "Epoch 23/200\n",
      "7424/7448 [============================>.] - ETA: 0s - loss: 0.0072\n",
      "Epoch 00023: loss did not improve from 0.00719\n",
      "7448/7448 [==============================] - 8s 1ms/sample - loss: 0.0072 - val_loss: 0.0091\n",
      "Epoch 24/200\n",
      "7448/7448 [==============================] - ETA: 0s - loss: 0.0072\n",
      "Epoch 00024: loss improved from 0.00719 to 0.00719, saving model to training/weight.h5\n",
      "7448/7448 [==============================] - 9s 1ms/sample - loss: 0.0072 - val_loss: 0.0082\n",
      "Epoch 25/200\n",
      "7440/7448 [============================>.] - ETA: 0s - loss: 0.0071\n",
      "Epoch 00025: loss improved from 0.00719 to 0.00712, saving model to training/weight.h5\n",
      "7448/7448 [==============================] - 9s 1ms/sample - loss: 0.0071 - val_loss: 0.0081\n",
      "Epoch 26/200\n",
      "7408/7448 [============================>.] - ETA: 0s - loss: 0.0073\n",
      "Epoch 00026: loss did not improve from 0.00712\n",
      "7448/7448 [==============================] - 8s 1ms/sample - loss: 0.0073 - val_loss: 0.0083\n",
      "Epoch 27/200\n",
      "7408/7448 [============================>.] - ETA: 0s - loss: 0.0072\n",
      "Epoch 00027: loss did not improve from 0.00712\n",
      "7448/7448 [==============================] - 9s 1ms/sample - loss: 0.0072 - val_loss: 0.0082\n",
      "Epoch 28/200\n",
      "7440/7448 [============================>.] - ETA: 0s - loss: 0.0071\n",
      "Epoch 00028: loss improved from 0.00712 to 0.00710, saving model to training/weight.h5\n",
      "7448/7448 [==============================] - 9s 1ms/sample - loss: 0.0071 - val_loss: 0.0082\n",
      "Epoch 29/200\n",
      "7448/7448 [==============================] - ETA: 0s - loss: 0.0071\n",
      "Epoch 00029: loss improved from 0.00710 to 0.00708, saving model to training/weight.h5\n",
      "7448/7448 [==============================] - 9s 1ms/sample - loss: 0.0071 - val_loss: 0.0080\n",
      "Epoch 30/200\n",
      "7424/7448 [============================>.] - ETA: 0s - loss: 0.0070\n",
      "Epoch 00030: loss improved from 0.00708 to 0.00703, saving model to training/weight.h5\n",
      "7448/7448 [==============================] - 9s 1ms/sample - loss: 0.0070 - val_loss: 0.0081\n",
      "Epoch 31/200\n",
      "7424/7448 [============================>.] - ETA: 0s - loss: 0.0070\n",
      "Epoch 00031: loss did not improve from 0.00703\n",
      "7448/7448 [==============================] - 9s 1ms/sample - loss: 0.0070 - val_loss: 0.0081\n",
      "Epoch 32/200\n",
      "7408/7448 [============================>.] - ETA: 0s - loss: 0.0071\n",
      "Epoch 00032: loss did not improve from 0.00703\n",
      "7448/7448 [==============================] - 9s 1ms/sample - loss: 0.0071 - val_loss: 0.0080\n",
      "Epoch 33/200\n",
      "7440/7448 [============================>.] - ETA: 0s - loss: 0.0071\n",
      "Epoch 00033: loss did not improve from 0.00703\n",
      "7448/7448 [==============================] - 8s 1ms/sample - loss: 0.0071 - val_loss: 0.0081\n",
      "Epoch 34/200\n",
      "7424/7448 [============================>.] - ETA: 0s - loss: 0.0071\n",
      "Epoch 00034: loss did not improve from 0.00703\n",
      "7448/7448 [==============================] - 8s 1ms/sample - loss: 0.0071 - val_loss: 0.0081\n",
      "Epoch 35/200\n",
      "7440/7448 [============================>.] - ETA: 0s - loss: 0.0070\n",
      "Epoch 00035: loss improved from 0.00703 to 0.00696, saving model to training/weight.h5\n",
      "7448/7448 [==============================] - 9s 1ms/sample - loss: 0.0070 - val_loss: 0.0082\n",
      "Epoch 36/200\n",
      "7440/7448 [============================>.] - ETA: 0s - loss: 0.0070\n",
      "Epoch 00036: loss did not improve from 0.00696\n",
      "7448/7448 [==============================] - 9s 1ms/sample - loss: 0.0070 - val_loss: 0.0081\n",
      "Epoch 37/200\n",
      "7424/7448 [============================>.] - ETA: 0s - loss: 0.0069\n",
      "Epoch 00037: loss improved from 0.00696 to 0.00689, saving model to training/weight.h5\n",
      "7448/7448 [==============================] - 9s 1ms/sample - loss: 0.0069 - val_loss: 0.0081\n",
      "Epoch 38/200\n",
      "7424/7448 [============================>.] - ETA: 0s - loss: 0.0069\n",
      "Epoch 00038: loss did not improve from 0.00689\n",
      "7448/7448 [==============================] - 9s 1ms/sample - loss: 0.0069 - val_loss: 0.0080\n",
      "Epoch 39/200\n",
      "7408/7448 [============================>.] - ETA: 0s - loss: 0.0069\n",
      "Epoch 00039: loss did not improve from 0.00689\n",
      "7448/7448 [==============================] - 8s 1ms/sample - loss: 0.0069 - val_loss: 0.0082\n",
      "Epoch 40/200\n",
      "7448/7448 [==============================] - ETA: 0s - loss: 0.0071\n",
      "Epoch 00040: loss did not improve from 0.00689\n",
      "7448/7448 [==============================] - 9s 1ms/sample - loss: 0.0071 - val_loss: 0.0085\n",
      "Epoch 41/200\n",
      "7408/7448 [============================>.] - ETA: 0s - loss: 0.0070\n",
      "Epoch 00041: loss did not improve from 0.00689\n",
      "7448/7448 [==============================] - 8s 1ms/sample - loss: 0.0070 - val_loss: 0.0084\n",
      "Epoch 42/200\n",
      "7408/7448 [============================>.] - ETA: 0s - loss: 0.0069\n",
      "Epoch 00042: loss improved from 0.00689 to 0.00687, saving model to training/weight.h5\n",
      "7448/7448 [==============================] - 9s 1ms/sample - loss: 0.0069 - val_loss: 0.0083\n",
      "Epoch 43/200\n",
      "7440/7448 [============================>.] - ETA: 0s - loss: 0.0069\n",
      "Epoch 00043: loss did not improve from 0.00687\n",
      "7448/7448 [==============================] - 8s 1ms/sample - loss: 0.0069 - val_loss: 0.0081\n",
      "Epoch 44/200\n",
      "7408/7448 [============================>.] - ETA: 0s - loss: 0.0069\n",
      "Epoch 00044: loss did not improve from 0.00687\n",
      "7448/7448 [==============================] - 9s 1ms/sample - loss: 0.0069 - val_loss: 0.0082\n",
      "Epoch 45/200\n",
      "7440/7448 [============================>.] - ETA: 0s - loss: 0.0068\n",
      "Epoch 00045: loss improved from 0.00687 to 0.00683, saving model to training/weight.h5\n",
      "7448/7448 [==============================] - 9s 1ms/sample - loss: 0.0068 - val_loss: 0.0082\n",
      "Epoch 46/200\n",
      "7440/7448 [============================>.] - ETA: 0s - loss: 0.0069\n",
      "Epoch 00046: loss did not improve from 0.00683\n",
      "7448/7448 [==============================] - 9s 1ms/sample - loss: 0.0069 - val_loss: 0.0085\n",
      "Epoch 47/200\n",
      "7424/7448 [============================>.] - ETA: 0s - loss: 0.0068\n",
      "Epoch 00047: loss improved from 0.00683 to 0.00681, saving model to training/weight.h5\n",
      "7448/7448 [==============================] - 9s 1ms/sample - loss: 0.0068 - val_loss: 0.0083\n",
      "Epoch 48/200\n",
      "7448/7448 [==============================] - ETA: 0s - loss: 0.0068\n",
      "Epoch 00048: loss improved from 0.00681 to 0.00680, saving model to training/weight.h5\n",
      "7448/7448 [==============================] - 10s 1ms/sample - loss: 0.0068 - val_loss: 0.0088\n",
      "Epoch 49/200\n",
      "7448/7448 [==============================] - ETA: 0s - loss: 0.0068\n",
      "Epoch 00049: loss did not improve from 0.00680\n",
      "7448/7448 [==============================] - 8s 1ms/sample - loss: 0.0068 - val_loss: 0.0086\n",
      "Epoch 50/200\n",
      "7448/7448 [==============================] - ETA: 0s - loss: 0.0068\n",
      "Epoch 00050: loss improved from 0.00680 to 0.00680, saving model to training/weight.h5\n",
      "7448/7448 [==============================] - 9s 1ms/sample - loss: 0.0068 - val_loss: 0.0087\n",
      "Epoch 51/200\n",
      "7440/7448 [============================>.] - ETA: 0s - loss: 0.0068\n",
      "Epoch 00051: loss did not improve from 0.00680\n",
      "7448/7448 [==============================] - 9s 1ms/sample - loss: 0.0068 - val_loss: 0.0083\n",
      "Epoch 52/200\n",
      "7408/7448 [============================>.] - ETA: 0s - loss: 0.0068\n",
      "Epoch 00052: loss improved from 0.00680 to 0.00676, saving model to training/weight.h5\n",
      "7448/7448 [==============================] - 9s 1ms/sample - loss: 0.0068 - val_loss: 0.0084\n",
      "Epoch 53/200\n",
      "7424/7448 [============================>.] - ETA: 0s - loss: 0.0068\n",
      "Epoch 00053: loss improved from 0.00676 to 0.00676, saving model to training/weight.h5\n",
      "7448/7448 [==============================] - 9s 1ms/sample - loss: 0.0068 - val_loss: 0.0095\n",
      "Epoch 54/200\n",
      "7424/7448 [============================>.] - ETA: 0s - loss: 0.0067\n",
      "Epoch 00054: loss improved from 0.00676 to 0.00675, saving model to training/weight.h5\n",
      "7448/7448 [==============================] - 9s 1ms/sample - loss: 0.0067 - val_loss: 0.0084\n",
      "Epoch 55/200\n",
      "7424/7448 [============================>.] - ETA: 0s - loss: 0.0067\n",
      "Epoch 00055: loss improved from 0.00675 to 0.00674, saving model to training/weight.h5\n",
      "7448/7448 [==============================] - 10s 1ms/sample - loss: 0.0067 - val_loss: 0.0084\n",
      "Epoch 56/200\n",
      "7440/7448 [============================>.] - ETA: 0s - loss: 0.0067\n",
      "Epoch 00056: loss improved from 0.00674 to 0.00673, saving model to training/weight.h5\n",
      "7448/7448 [==============================] - 9s 1ms/sample - loss: 0.0067 - val_loss: 0.0082\n",
      "Epoch 57/200\n",
      "7408/7448 [============================>.] - ETA: 0s - loss: 0.0067\n",
      "Epoch 00057: loss did not improve from 0.00673\n",
      "7448/7448 [==============================] - 9s 1ms/sample - loss: 0.0067 - val_loss: 0.0085\n",
      "Epoch 58/200\n",
      "7448/7448 [==============================] - ETA: 0s - loss: 0.0067\n",
      "Epoch 00058: loss did not improve from 0.00673\n",
      "7448/7448 [==============================] - 8s 1ms/sample - loss: 0.0067 - val_loss: 0.0084\n",
      "Epoch 59/200\n",
      "7424/7448 [============================>.] - ETA: 0s - loss: 0.0067\n",
      "Epoch 00059: loss improved from 0.00673 to 0.00667, saving model to training/weight.h5\n",
      "7448/7448 [==============================] - 10s 1ms/sample - loss: 0.0067 - val_loss: 0.0084\n",
      "Epoch 60/200\n",
      "7448/7448 [==============================] - ETA: 0s - loss: 0.0067\n",
      "Epoch 00060: loss improved from 0.00667 to 0.00666, saving model to training/weight.h5\n",
      "7448/7448 [==============================] - 9s 1ms/sample - loss: 0.0067 - val_loss: 0.0087\n",
      "Epoch 61/200\n",
      "7424/7448 [============================>.] - ETA: 0s - loss: 0.0067\n",
      "Epoch 00061: loss did not improve from 0.00666\n",
      "7448/7448 [==============================] - 8s 1ms/sample - loss: 0.0067 - val_loss: 0.0084\n",
      "Epoch 62/200\n",
      "7424/7448 [============================>.] - ETA: 0s - loss: 0.0067\n",
      "Epoch 00062: loss improved from 0.00666 to 0.00665, saving model to training/weight.h5\n",
      "7448/7448 [==============================] - 9s 1ms/sample - loss: 0.0067 - val_loss: 0.0084\n",
      "Epoch 63/200\n",
      "7424/7448 [============================>.] - ETA: 0s - loss: 0.0066\n",
      "Epoch 00063: loss improved from 0.00665 to 0.00665, saving model to training/weight.h5\n",
      "7448/7448 [==============================] - 10s 1ms/sample - loss: 0.0067 - val_loss: 0.0088\n",
      "Epoch 64/200\n",
      "7408/7448 [============================>.] - ETA: 0s - loss: 0.0066\n",
      "Epoch 00064: loss improved from 0.00665 to 0.00665, saving model to training/weight.h5\n",
      "7448/7448 [==============================] - 9s 1ms/sample - loss: 0.0066 - val_loss: 0.0084\n",
      "Epoch 65/200\n",
      "7448/7448 [==============================] - ETA: 0s - loss: 0.0066\n",
      "Epoch 00065: loss improved from 0.00665 to 0.00665, saving model to training/weight.h5\n",
      "7448/7448 [==============================] - 9s 1ms/sample - loss: 0.0066 - val_loss: 0.0084\n",
      "Epoch 66/200\n",
      "7440/7448 [============================>.] - ETA: 0s - loss: 0.0066\n",
      "Epoch 00066: loss improved from 0.00665 to 0.00659, saving model to training/weight.h5\n",
      "7448/7448 [==============================] - 9s 1ms/sample - loss: 0.0066 - val_loss: 0.0085\n",
      "Epoch 67/200\n",
      "7424/7448 [============================>.] - ETA: 0s - loss: 0.0066\n",
      "Epoch 00067: loss improved from 0.00659 to 0.00659, saving model to training/weight.h5\n",
      "7448/7448 [==============================] - 11s 1ms/sample - loss: 0.0066 - val_loss: 0.0085\n",
      "Epoch 68/200\n",
      "7424/7448 [============================>.] - ETA: 0s - loss: 0.0066\n",
      "Epoch 00068: loss did not improve from 0.00659\n",
      "7448/7448 [==============================] - 8s 1ms/sample - loss: 0.0066 - val_loss: 0.0088\n",
      "Epoch 69/200\n",
      "7440/7448 [============================>.] - ETA: 0s - loss: 0.0066\n",
      "Epoch 00069: loss improved from 0.00659 to 0.00658, saving model to training/weight.h5\n",
      "7448/7448 [==============================] - 9s 1ms/sample - loss: 0.0066 - val_loss: 0.0082\n",
      "Epoch 70/200\n",
      "7448/7448 [==============================] - ETA: 0s - loss: 0.0066\n",
      "Epoch 00070: loss did not improve from 0.00658\n",
      "7448/7448 [==============================] - 8s 1ms/sample - loss: 0.0066 - val_loss: 0.0086\n",
      "Epoch 71/200\n",
      "7440/7448 [============================>.] - ETA: 0s - loss: 0.0066\n",
      "Epoch 00071: loss improved from 0.00658 to 0.00655, saving model to training/weight.h5\n",
      "7448/7448 [==============================] - 10s 1ms/sample - loss: 0.0066 - val_loss: 0.0085\n",
      "Epoch 72/200\n",
      "7440/7448 [============================>.] - ETA: 0s - loss: 0.0066\n",
      "Epoch 00072: loss did not improve from 0.00655\n",
      "7448/7448 [==============================] - 8s 1ms/sample - loss: 0.0066 - val_loss: 0.0085\n",
      "Epoch 73/200\n",
      "7440/7448 [============================>.] - ETA: 0s - loss: 0.0065\n",
      "Epoch 00073: loss improved from 0.00655 to 0.00651, saving model to training/weight.h5\n",
      "7448/7448 [==============================] - 9s 1ms/sample - loss: 0.0065 - val_loss: 0.0085\n",
      "Epoch 74/200\n",
      "7408/7448 [============================>.] - ETA: 0s - loss: 0.0065\n",
      "Epoch 00074: loss improved from 0.00651 to 0.00650, saving model to training/weight.h5\n",
      "7448/7448 [==============================] - 9s 1ms/sample - loss: 0.0065 - val_loss: 0.0087\n",
      "Epoch 75/200\n",
      "7440/7448 [============================>.] - ETA: 0s - loss: 0.0065\n",
      "Epoch 00075: loss did not improve from 0.00650\n",
      "7448/7448 [==============================] - 10s 1ms/sample - loss: 0.0065 - val_loss: 0.0085\n",
      "Epoch 76/200\n",
      "7440/7448 [============================>.] - ETA: 0s - loss: 0.0065\n",
      "Epoch 00076: loss improved from 0.00650 to 0.00647, saving model to training/weight.h5\n",
      "7448/7448 [==============================] - 9s 1ms/sample - loss: 0.0065 - val_loss: 0.0090\n",
      "Epoch 77/200\n",
      "7424/7448 [============================>.] - ETA: 0s - loss: 0.0065\n",
      "Epoch 00077: loss did not improve from 0.00647\n",
      "7448/7448 [==============================] - 8s 1ms/sample - loss: 0.0065 - val_loss: 0.0086\n",
      "Epoch 78/200\n",
      "7440/7448 [============================>.] - ETA: 0s - loss: 0.0065\n",
      "Epoch 00078: loss did not improve from 0.00647\n",
      "7448/7448 [==============================] - 9s 1ms/sample - loss: 0.0065 - val_loss: 0.0084\n",
      "Epoch 79/200\n",
      "7448/7448 [==============================] - ETA: 0s - loss: 0.0065\n",
      "Epoch 00079: loss did not improve from 0.00647\n",
      "7448/7448 [==============================] - 9s 1ms/sample - loss: 0.0065 - val_loss: 0.0088\n",
      "Epoch 80/200\n",
      "7424/7448 [============================>.] - ETA: 0s - loss: 0.0064\n",
      "Epoch 00080: loss improved from 0.00647 to 0.00645, saving model to training/weight.h5\n",
      "7448/7448 [==============================] - 9s 1ms/sample - loss: 0.0065 - val_loss: 0.0089\n",
      "Epoch 81/200\n",
      "7424/7448 [============================>.] - ETA: 0s - loss: 0.0064\n",
      "Epoch 00081: loss improved from 0.00645 to 0.00645, saving model to training/weight.h5\n",
      "7448/7448 [==============================] - 8s 1ms/sample - loss: 0.0064 - val_loss: 0.0090\n",
      "Epoch 82/200\n",
      "7440/7448 [============================>.] - ETA: 0s - loss: 0.0064\n",
      "Epoch 00082: loss improved from 0.00645 to 0.00644, saving model to training/weight.h5\n",
      "7448/7448 [==============================] - 9s 1ms/sample - loss: 0.0064 - val_loss: 0.0086\n",
      "Epoch 83/200\n",
      "7448/7448 [==============================] - ETA: 0s - loss: 0.0064\n",
      "Epoch 00083: loss improved from 0.00644 to 0.00642, saving model to training/weight.h5\n",
      "7448/7448 [==============================] - 10s 1ms/sample - loss: 0.0064 - val_loss: 0.0089\n",
      "Epoch 84/200\n",
      "7408/7448 [============================>.] - ETA: 0s - loss: 0.0064\n",
      "Epoch 00084: loss did not improve from 0.00642\n",
      "7448/7448 [==============================] - 9s 1ms/sample - loss: 0.0064 - val_loss: 0.0090\n",
      "Epoch 85/200\n",
      "7424/7448 [============================>.] - ETA: 0s - loss: 0.0064\n",
      "Epoch 00085: loss improved from 0.00642 to 0.00640, saving model to training/weight.h5\n",
      "7448/7448 [==============================] - 9s 1ms/sample - loss: 0.0064 - val_loss: 0.0093\n",
      "Epoch 86/200\n",
      "7424/7448 [============================>.] - ETA: 0s - loss: 0.0064\n",
      "Epoch 00086: loss improved from 0.00640 to 0.00639, saving model to training/weight.h5\n",
      "7448/7448 [==============================] - 9s 1ms/sample - loss: 0.0064 - val_loss: 0.0089\n",
      "Epoch 87/200\n",
      "7448/7448 [==============================] - ETA: 0s - loss: 0.0064\n",
      "Epoch 00087: loss improved from 0.00639 to 0.00637, saving model to training/weight.h5\n",
      "7448/7448 [==============================] - 10s 1ms/sample - loss: 0.0064 - val_loss: 0.0088\n",
      "Epoch 88/200\n",
      "7408/7448 [============================>.] - ETA: 0s - loss: 0.0064\n",
      "Epoch 00088: loss did not improve from 0.00637\n",
      "7448/7448 [==============================] - 9s 1ms/sample - loss: 0.0064 - val_loss: 0.0088\n",
      "Epoch 89/200\n",
      "7424/7448 [============================>.] - ETA: 0s - loss: 0.0063\n",
      "Epoch 00089: loss improved from 0.00637 to 0.00634, saving model to training/weight.h5\n",
      "7448/7448 [==============================] - 9s 1ms/sample - loss: 0.0063 - val_loss: 0.0087\n",
      "Epoch 90/200\n",
      "7440/7448 [============================>.] - ETA: 0s - loss: 0.0064\n",
      "Epoch 00090: loss did not improve from 0.00634\n",
      "7448/7448 [==============================] - 8s 1ms/sample - loss: 0.0064 - val_loss: 0.0092\n",
      "Epoch 91/200\n",
      "7448/7448 [==============================] - ETA: 0s - loss: 0.0064\n",
      "Epoch 00091: loss did not improve from 0.00634\n",
      "7448/7448 [==============================] - 8s 1ms/sample - loss: 0.0064 - val_loss: 0.0108\n",
      "Epoch 92/200\n",
      "7408/7448 [============================>.] - ETA: 0s - loss: 0.0063\n",
      "Epoch 00092: loss improved from 0.00634 to 0.00632, saving model to training/weight.h5\n",
      "7448/7448 [==============================] - 11s 1ms/sample - loss: 0.0063 - val_loss: 0.0097\n",
      "Epoch 93/200\n",
      "7424/7448 [============================>.] - ETA: 0s - loss: 0.0064\n",
      "Epoch 00093: loss did not improve from 0.00632\n",
      "7448/7448 [==============================] - 8s 1ms/sample - loss: 0.0064 - val_loss: 0.0091\n",
      "Epoch 94/200\n",
      "7440/7448 [============================>.] - ETA: 0s - loss: 0.0064\n",
      "Epoch 00094: loss did not improve from 0.00632\n",
      "7448/7448 [==============================] - 8s 1ms/sample - loss: 0.0064 - val_loss: 0.0094\n",
      "Epoch 95/200\n",
      "7408/7448 [============================>.] - ETA: 0s - loss: 0.0063\n",
      "Epoch 00095: loss improved from 0.00632 to 0.00628, saving model to training/weight.h5\n",
      "7448/7448 [==============================] - 9s 1ms/sample - loss: 0.0063 - val_loss: 0.0092\n",
      "Epoch 96/200\n",
      "7440/7448 [============================>.] - ETA: 0s - loss: 0.0063\n",
      "Epoch 00096: loss did not improve from 0.00628\n",
      "7448/7448 [==============================] - 11s 1ms/sample - loss: 0.0063 - val_loss: 0.0090\n",
      "Epoch 97/200\n",
      "7424/7448 [============================>.] - ETA: 0s - loss: 0.0063\n",
      "Epoch 00097: loss did not improve from 0.00628\n",
      "7448/7448 [==============================] - 8s 1ms/sample - loss: 0.0063 - val_loss: 0.0095\n",
      "Epoch 98/200\n",
      "7424/7448 [============================>.] - ETA: 0s - loss: 0.0063\n",
      "Epoch 00098: loss did not improve from 0.00628\n",
      "7448/7448 [==============================] - 8s 1ms/sample - loss: 0.0063 - val_loss: 0.0091\n",
      "Epoch 99/200\n",
      "7424/7448 [============================>.] - ETA: 0s - loss: 0.0063\n",
      "Epoch 00099: loss improved from 0.00628 to 0.00627, saving model to training/weight.h5\n",
      "7448/7448 [==============================] - 9s 1ms/sample - loss: 0.0063 - val_loss: 0.0087\n",
      "Epoch 100/200\n",
      "7408/7448 [============================>.] - ETA: 0s - loss: 0.0062\n",
      "Epoch 00100: loss improved from 0.00627 to 0.00624, saving model to training/weight.h5\n",
      "7448/7448 [==============================] - 9s 1ms/sample - loss: 0.0062 - val_loss: 0.0089\n",
      "Epoch 101/200\n",
      "7408/7448 [============================>.] - ETA: 0s - loss: 0.0063\n",
      "Epoch 00101: loss did not improve from 0.00624\n",
      "7448/7448 [==============================] - 8s 1ms/sample - loss: 0.0063 - val_loss: 0.0094\n",
      "Epoch 102/200\n",
      "7440/7448 [============================>.] - ETA: 0s - loss: 0.0063\n",
      "Epoch 00102: loss did not improve from 0.00624\n",
      "7448/7448 [==============================] - 8s 1ms/sample - loss: 0.0063 - val_loss: 0.0095\n",
      "Epoch 103/200\n",
      "7440/7448 [============================>.] - ETA: 0s - loss: 0.0063\n",
      "Epoch 00103: loss did not improve from 0.00624\n",
      "7448/7448 [==============================] - 9s 1ms/sample - loss: 0.0063 - val_loss: 0.0091\n",
      "Epoch 104/200\n",
      "7408/7448 [============================>.] - ETA: 0s - loss: 0.0062\n",
      "Epoch 00104: loss improved from 0.00624 to 0.00622, saving model to training/weight.h5\n",
      "7448/7448 [==============================] - 11s 1ms/sample - loss: 0.0062 - val_loss: 0.0093\n",
      "Epoch 105/200\n",
      "7440/7448 [============================>.] - ETA: 0s - loss: 0.0062\n",
      "Epoch 00105: loss did not improve from 0.00622\n",
      "7448/7448 [==============================] - 8s 1ms/sample - loss: 0.0063 - val_loss: 0.0090\n",
      "Epoch 106/200\n",
      "7448/7448 [==============================] - ETA: 0s - loss: 0.0062\n",
      "Epoch 00106: loss did not improve from 0.00622\n",
      "7448/7448 [==============================] - 9s 1ms/sample - loss: 0.0062 - val_loss: 0.0091\n",
      "Epoch 107/200\n",
      "7408/7448 [============================>.] - ETA: 0s - loss: 0.0063\n",
      "Epoch 00107: loss did not improve from 0.00622\n",
      "7448/7448 [==============================] - 8s 1ms/sample - loss: 0.0063 - val_loss: 0.0095\n",
      "Epoch 108/200\n",
      "7424/7448 [============================>.] - ETA: 0s - loss: 0.0062\n",
      "Epoch 00108: loss did not improve from 0.00622\n",
      "7448/7448 [==============================] - 8s 1ms/sample - loss: 0.0062 - val_loss: 0.0094\n",
      "Epoch 109/200\n",
      "7424/7448 [============================>.] - ETA: 0s - loss: 0.0062\n",
      "Epoch 00109: loss did not improve from 0.00622\n",
      "7448/7448 [==============================] - 8s 1ms/sample - loss: 0.0062 - val_loss: 0.0093\n",
      "Epoch 110/200\n",
      "7408/7448 [============================>.] - ETA: 0s - loss: 0.0062\n",
      "Epoch 00110: loss improved from 0.00622 to 0.00619, saving model to training/weight.h5\n",
      "7448/7448 [==============================] - 9s 1ms/sample - loss: 0.0062 - val_loss: 0.0099\n",
      "Epoch 111/200\n",
      "7424/7448 [============================>.] - ETA: 0s - loss: 0.0062\n",
      "Epoch 00111: loss improved from 0.00619 to 0.00619, saving model to training/weight.h5\n",
      "7448/7448 [==============================] - 10s 1ms/sample - loss: 0.0062 - val_loss: 0.0093\n",
      "Epoch 112/200\n",
      "7424/7448 [============================>.] - ETA: 0s - loss: 0.0062\n",
      "Epoch 00112: loss did not improve from 0.00619\n",
      "7448/7448 [==============================] - 9s 1ms/sample - loss: 0.0062 - val_loss: 0.0095\n",
      "Epoch 113/200\n",
      "7440/7448 [============================>.] - ETA: 0s - loss: 0.0062\n",
      "Epoch 00113: loss did not improve from 0.00619\n",
      "7448/7448 [==============================] - 8s 1ms/sample - loss: 0.0062 - val_loss: 0.0090\n",
      "Epoch 114/200\n",
      "7424/7448 [============================>.] - ETA: 0s - loss: 0.0062\n",
      "Epoch 00114: loss improved from 0.00619 to 0.00615, saving model to training/weight.h5\n",
      "7448/7448 [==============================] - 9s 1ms/sample - loss: 0.0062 - val_loss: 0.0101\n",
      "Epoch 115/200\n",
      "7408/7448 [============================>.] - ETA: 0s - loss: 0.0062\n",
      "Epoch 00115: loss did not improve from 0.00615\n",
      "7448/7448 [==============================] - 8s 1ms/sample - loss: 0.0062 - val_loss: 0.0093\n",
      "Epoch 116/200\n",
      "7408/7448 [============================>.] - ETA: 0s - loss: 0.0062\n",
      "Epoch 00116: loss did not improve from 0.00615\n",
      "7448/7448 [==============================] - 8s 1ms/sample - loss: 0.0062 - val_loss: 0.0095\n",
      "Epoch 117/200\n",
      "7424/7448 [============================>.] - ETA: 0s - loss: 0.0062\n",
      "Epoch 00117: loss did not improve from 0.00615\n",
      "7448/7448 [==============================] - 9s 1ms/sample - loss: 0.0062 - val_loss: 0.0090\n",
      "Epoch 118/200\n",
      "7440/7448 [============================>.] - ETA: 0s - loss: 0.0062\n",
      "Epoch 00118: loss did not improve from 0.00615\n",
      "7448/7448 [==============================] - 8s 1ms/sample - loss: 0.0062 - val_loss: 0.0092\n",
      "Epoch 119/200\n",
      "7448/7448 [==============================] - ETA: 0s - loss: 0.0062\n",
      "Epoch 00119: loss did not improve from 0.00615\n",
      "7448/7448 [==============================] - 10s 1ms/sample - loss: 0.0062 - val_loss: 0.0093\n",
      "Epoch 120/200\n",
      "7408/7448 [============================>.] - ETA: 0s - loss: 0.0061\n",
      "Epoch 00120: loss improved from 0.00615 to 0.00614, saving model to training/weight.h5\n",
      "7448/7448 [==============================] - 10s 1ms/sample - loss: 0.0061 - val_loss: 0.0090\n",
      "Epoch 121/200\n",
      "7424/7448 [============================>.] - ETA: 0s - loss: 0.0061\n",
      "Epoch 00121: loss did not improve from 0.00614\n",
      "7448/7448 [==============================] - 9s 1ms/sample - loss: 0.0061 - val_loss: 0.0090\n",
      "Epoch 122/200\n",
      "7440/7448 [============================>.] - ETA: 0s - loss: 0.0062\n",
      "Epoch 00122: loss did not improve from 0.00614\n",
      "7448/7448 [==============================] - 8s 1ms/sample - loss: 0.0062 - val_loss: 0.0091\n",
      "Epoch 123/200\n",
      "7424/7448 [============================>.] - ETA: 0s - loss: 0.0061\n",
      "Epoch 00123: loss improved from 0.00614 to 0.00611, saving model to training/weight.h5\n",
      "7448/7448 [==============================] - 9s 1ms/sample - loss: 0.0061 - val_loss: 0.0094\n",
      "Epoch 124/200\n",
      "7440/7448 [============================>.] - ETA: 0s - loss: 0.0061\n",
      "Epoch 00124: loss did not improve from 0.00611\n",
      "7448/7448 [==============================] - 8s 1ms/sample - loss: 0.0061 - val_loss: 0.0095\n",
      "Epoch 125/200\n",
      "7408/7448 [============================>.] - ETA: 0s - loss: 0.0061\n",
      "Epoch 00125: loss did not improve from 0.00611\n",
      "7448/7448 [==============================] - 9s 1ms/sample - loss: 0.0061 - val_loss: 0.0095\n",
      "Epoch 126/200\n",
      "7440/7448 [============================>.] - ETA: 0s - loss: 0.0062\n",
      "Epoch 00126: loss did not improve from 0.00611\n",
      "7448/7448 [==============================] - 8s 1ms/sample - loss: 0.0062 - val_loss: 0.0091\n",
      "Epoch 127/200\n",
      "7424/7448 [============================>.] - ETA: 0s - loss: 0.0061\n",
      "Epoch 00127: loss improved from 0.00611 to 0.00611, saving model to training/weight.h5\n",
      "7448/7448 [==============================] - 10s 1ms/sample - loss: 0.0061 - val_loss: 0.0094\n",
      "Epoch 128/200\n",
      "7424/7448 [============================>.] - ETA: 0s - loss: 0.0061\n",
      "Epoch 00128: loss improved from 0.00611 to 0.00609, saving model to training/weight.h5\n",
      "7448/7448 [==============================] - 10s 1ms/sample - loss: 0.0061 - val_loss: 0.0091\n",
      "Epoch 129/200\n",
      "7440/7448 [============================>.] - ETA: 0s - loss: 0.0061\n",
      "Epoch 00129: loss did not improve from 0.00609\n",
      "7448/7448 [==============================] - 8s 1ms/sample - loss: 0.0061 - val_loss: 0.0096\n",
      "Epoch 130/200\n",
      "7440/7448 [============================>.] - ETA: 0s - loss: 0.0061\n",
      "Epoch 00130: loss did not improve from 0.00609\n",
      "7448/7448 [==============================] - 8s 1ms/sample - loss: 0.0061 - val_loss: 0.0093\n",
      "Epoch 131/200\n",
      "7408/7448 [============================>.] - ETA: 0s - loss: 0.0061\n",
      "Epoch 00131: loss did not improve from 0.00609\n",
      "7448/7448 [==============================] - 8s 1ms/sample - loss: 0.0061 - val_loss: 0.0094\n",
      "Epoch 132/200\n",
      "7440/7448 [============================>.] - ETA: 0s - loss: 0.0061\n",
      "Epoch 00132: loss did not improve from 0.00609\n",
      "7448/7448 [==============================] - 9s 1ms/sample - loss: 0.0061 - val_loss: 0.0096\n",
      "Epoch 133/200\n",
      "7448/7448 [==============================] - ETA: 0s - loss: 0.0061\n",
      "Epoch 00133: loss did not improve from 0.00609\n",
      "7448/7448 [==============================] - 8s 1ms/sample - loss: 0.0061 - val_loss: 0.0098\n",
      "Epoch 134/200\n",
      "7408/7448 [============================>.] - ETA: 0s - loss: 0.0061\n",
      "Epoch 00134: loss did not improve from 0.00609\n",
      "7448/7448 [==============================] - 8s 1ms/sample - loss: 0.0061 - val_loss: 0.0099\n",
      "Epoch 135/200\n",
      "7440/7448 [============================>.] - ETA: 0s - loss: 0.0061\n",
      "Epoch 00135: loss improved from 0.00609 to 0.00609, saving model to training/weight.h5\n",
      "7448/7448 [==============================] - 10s 1ms/sample - loss: 0.0061 - val_loss: 0.0095\n",
      "Epoch 136/200\n",
      "7424/7448 [============================>.] - ETA: 0s - loss: 0.0062\n",
      "Epoch 00136: loss did not improve from 0.00609\n",
      "7448/7448 [==============================] - 10s 1ms/sample - loss: 0.0062 - val_loss: 0.0095\n",
      "Epoch 137/200\n",
      "7440/7448 [============================>.] - ETA: 0s - loss: 0.0061\n",
      "Epoch 00137: loss improved from 0.00609 to 0.00606, saving model to training/weight.h5\n",
      "7448/7448 [==============================] - 9s 1ms/sample - loss: 0.0061 - val_loss: 0.0091\n",
      "Epoch 138/200\n",
      "7408/7448 [============================>.] - ETA: 0s - loss: 0.0060\n",
      "Epoch 00138: loss improved from 0.00606 to 0.00604, saving model to training/weight.h5\n",
      "7448/7448 [==============================] - 9s 1ms/sample - loss: 0.0060 - val_loss: 0.0093\n",
      "Epoch 139/200\n",
      "7408/7448 [============================>.] - ETA: 0s - loss: 0.0060\n",
      "Epoch 00139: loss improved from 0.00604 to 0.00602, saving model to training/weight.h5\n",
      "7448/7448 [==============================] - 9s 1ms/sample - loss: 0.0060 - val_loss: 0.0093\n",
      "Epoch 140/200\n",
      "7408/7448 [============================>.] - ETA: 0s - loss: 0.0060\n",
      "Epoch 00140: loss did not improve from 0.00602\n",
      "7448/7448 [==============================] - 8s 1ms/sample - loss: 0.0060 - val_loss: 0.0098\n",
      "Epoch 141/200\n",
      "7424/7448 [============================>.] - ETA: 0s - loss: 0.0060\n",
      "Epoch 00141: loss did not improve from 0.00602\n",
      "7448/7448 [==============================] - 8s 1ms/sample - loss: 0.0060 - val_loss: 0.0094\n",
      "Epoch 142/200\n",
      "7424/7448 [============================>.] - ETA: 0s - loss: 0.0061\n",
      "Epoch 00142: loss did not improve from 0.00602\n",
      "7448/7448 [==============================] - 8s 1ms/sample - loss: 0.0061 - val_loss: 0.0097\n",
      "Epoch 143/200\n",
      "7440/7448 [============================>.] - ETA: 0s - loss: 0.0060\n",
      "Epoch 00143: loss did not improve from 0.00602\n",
      "7448/7448 [==============================] - 9s 1ms/sample - loss: 0.0060 - val_loss: 0.0092\n",
      "Epoch 144/200\n",
      "7448/7448 [==============================] - ETA: 0s - loss: 0.0060\n",
      "Epoch 00144: loss did not improve from 0.00602\n",
      "7448/7448 [==============================] - 10s 1ms/sample - loss: 0.0060 - val_loss: 0.0094\n",
      "Epoch 145/200\n",
      "7440/7448 [============================>.] - ETA: 0s - loss: 0.0060\n",
      "Epoch 00145: loss did not improve from 0.00602\n",
      "7448/7448 [==============================] - 8s 1ms/sample - loss: 0.0060 - val_loss: 0.0095\n",
      "Epoch 146/200\n",
      "7448/7448 [==============================] - ETA: 0s - loss: 0.0060\n",
      "Epoch 00146: loss did not improve from 0.00602\n",
      "7448/7448 [==============================] - 8s 1ms/sample - loss: 0.0060 - val_loss: 0.0093\n",
      "Epoch 147/200\n",
      "7408/7448 [============================>.] - ETA: 0s - loss: 0.0060\n",
      "Epoch 00147: loss did not improve from 0.00602\n",
      "7448/7448 [==============================] - 8s 1ms/sample - loss: 0.0061 - val_loss: 0.0093\n",
      "Epoch 148/200\n",
      "7408/7448 [============================>.] - ETA: 0s - loss: 0.0060\n",
      "Epoch 00148: loss improved from 0.00602 to 0.00600, saving model to training/weight.h5\n",
      "7448/7448 [==============================] - 9s 1ms/sample - loss: 0.0060 - val_loss: 0.0095\n",
      "Epoch 149/200\n",
      "7408/7448 [============================>.] - ETA: 0s - loss: 0.0060\n",
      "Epoch 00149: loss improved from 0.00600 to 0.00599, saving model to training/weight.h5\n",
      "7448/7448 [==============================] - 9s 1ms/sample - loss: 0.0060 - val_loss: 0.0097\n",
      "Epoch 150/200\n",
      "7424/7448 [============================>.] - ETA: 0s - loss: 0.0060\n",
      "Epoch 00150: loss improved from 0.00599 to 0.00599, saving model to training/weight.h5\n",
      "7448/7448 [==============================] - 9s 1ms/sample - loss: 0.0060 - val_loss: 0.0100\n",
      "Epoch 151/200\n",
      "7440/7448 [============================>.] - ETA: 0s - loss: 0.0060\n",
      "Epoch 00151: loss did not improve from 0.00599\n",
      "7448/7448 [==============================] - 8s 1ms/sample - loss: 0.0060 - val_loss: 0.0120\n",
      "Epoch 152/200\n",
      "7440/7448 [============================>.] - ETA: 0s - loss: 0.0060\n",
      "Epoch 00152: loss did not improve from 0.00599\n",
      "7448/7448 [==============================] - 11s 1ms/sample - loss: 0.0060 - val_loss: 0.0098\n",
      "Epoch 153/200\n",
      "7440/7448 [============================>.] - ETA: 0s - loss: 0.0060\n",
      "Epoch 00153: loss did not improve from 0.00599\n",
      "7448/7448 [==============================] - 9s 1ms/sample - loss: 0.0060 - val_loss: 0.0096\n",
      "Epoch 154/200\n",
      "7424/7448 [============================>.] - ETA: 0s - loss: 0.0060\n",
      "Epoch 00154: loss improved from 0.00599 to 0.00596, saving model to training/weight.h5\n",
      "7448/7448 [==============================] - 9s 1ms/sample - loss: 0.0060 - val_loss: 0.0098\n",
      "Epoch 155/200\n",
      "7424/7448 [============================>.] - ETA: 0s - loss: 0.0060\n",
      "Epoch 00155: loss did not improve from 0.00596\n",
      "7448/7448 [==============================] - 8s 1ms/sample - loss: 0.0060 - val_loss: 0.0095\n",
      "Epoch 156/200\n",
      "7448/7448 [==============================] - ETA: 0s - loss: 0.0060\n",
      "Epoch 00156: loss did not improve from 0.00596\n",
      "7448/7448 [==============================] - 8s 1ms/sample - loss: 0.0060 - val_loss: 0.0098\n",
      "Epoch 157/200\n",
      "7440/7448 [============================>.] - ETA: 0s - loss: 0.0059\n",
      "Epoch 00157: loss improved from 0.00596 to 0.00595, saving model to training/weight.h5\n",
      "7448/7448 [==============================] - 9s 1ms/sample - loss: 0.0059 - val_loss: 0.0094\n",
      "Epoch 158/200\n",
      "7424/7448 [============================>.] - ETA: 0s - loss: 0.0060\n",
      "Epoch 00158: loss did not improve from 0.00595\n",
      "7448/7448 [==============================] - 8s 1ms/sample - loss: 0.0060 - val_loss: 0.0092\n",
      "Epoch 159/200\n",
      "7424/7448 [============================>.] - ETA: 0s - loss: 0.0060\n",
      "Epoch 00159: loss did not improve from 0.00595\n",
      "7448/7448 [==============================] - 8s 1ms/sample - loss: 0.0060 - val_loss: 0.0098\n",
      "Epoch 160/200\n",
      "7424/7448 [============================>.] - ETA: 0s - loss: 0.0060\n",
      "Epoch 00160: loss did not improve from 0.00595\n",
      "7448/7448 [==============================] - 11s 1ms/sample - loss: 0.0060 - val_loss: 0.0095\n",
      "Epoch 161/200\n",
      "7448/7448 [==============================] - ETA: 0s - loss: 0.0059\n",
      "Epoch 00161: loss improved from 0.00595 to 0.00594, saving model to training/weight.h5\n",
      "7448/7448 [==============================] - 11s 1ms/sample - loss: 0.0059 - val_loss: 0.0097\n",
      "Epoch 162/200\n",
      "7440/7448 [============================>.] - ETA: 0s - loss: 0.0060\n",
      "Epoch 00162: loss did not improve from 0.00594\n",
      "7448/7448 [==============================] - 9s 1ms/sample - loss: 0.0060 - val_loss: 0.0100\n",
      "Epoch 163/200\n",
      "7440/7448 [============================>.] - ETA: 0s - loss: 0.0060\n",
      "Epoch 00163: loss did not improve from 0.00594\n",
      "7448/7448 [==============================] - 8s 1ms/sample - loss: 0.0060 - val_loss: 0.0092\n",
      "Epoch 164/200\n",
      "7440/7448 [============================>.] - ETA: 0s - loss: 0.0059\n",
      "Epoch 00164: loss did not improve from 0.00594\n",
      "7448/7448 [==============================] - 9s 1ms/sample - loss: 0.0059 - val_loss: 0.0089\n",
      "Epoch 165/200\n",
      "7408/7448 [============================>.] - ETA: 0s - loss: 0.0059\n",
      "Epoch 00165: loss did not improve from 0.00594\n",
      "7448/7448 [==============================] - 8s 1ms/sample - loss: 0.0059 - val_loss: 0.0093\n",
      "Epoch 166/200\n",
      "7440/7448 [============================>.] - ETA: 0s - loss: 0.0059\n",
      "Epoch 00166: loss improved from 0.00594 to 0.00594, saving model to training/weight.h5\n",
      "7448/7448 [==============================] - 9s 1ms/sample - loss: 0.0059 - val_loss: 0.0101\n",
      "Epoch 167/200\n",
      "7440/7448 [============================>.] - ETA: 0s - loss: 0.0059\n",
      "Epoch 00167: loss did not improve from 0.00594\n",
      "7448/7448 [==============================] - 8s 1ms/sample - loss: 0.0059 - val_loss: 0.0099\n",
      "Epoch 168/200\n",
      "7448/7448 [==============================] - ETA: 0s - loss: 0.0059\n",
      "Epoch 00168: loss improved from 0.00594 to 0.00592, saving model to training/weight.h5\n",
      "7448/7448 [==============================] - 11s 1ms/sample - loss: 0.0059 - val_loss: 0.0097\n",
      "Epoch 169/200\n",
      "7424/7448 [============================>.] - ETA: 0s - loss: 0.0059\n",
      "Epoch 00169: loss did not improve from 0.00592\n",
      "7448/7448 [==============================] - 11s 1ms/sample - loss: 0.0059 - val_loss: 0.0103\n",
      "Epoch 170/200\n",
      "7440/7448 [============================>.] - ETA: 0s - loss: 0.0060\n",
      "Epoch 00170: loss did not improve from 0.00592\n",
      "7448/7448 [==============================] - 8s 1ms/sample - loss: 0.0060 - val_loss: 0.0092\n",
      "Epoch 171/200\n",
      "7440/7448 [============================>.] - ETA: 0s - loss: 0.0059\n",
      "Epoch 00171: loss improved from 0.00592 to 0.00590, saving model to training/weight.h5\n",
      "7448/7448 [==============================] - 9s 1ms/sample - loss: 0.0059 - val_loss: 0.0095\n",
      "Epoch 172/200\n",
      "7408/7448 [============================>.] - ETA: 0s - loss: 0.0060\n",
      "Epoch 00172: loss did not improve from 0.00590\n",
      "7448/7448 [==============================] - 9s 1ms/sample - loss: 0.0060 - val_loss: 0.0093\n",
      "Epoch 173/200\n",
      "7448/7448 [==============================] - ETA: 0s - loss: 0.0059\n",
      "Epoch 00173: loss did not improve from 0.00590\n",
      "7448/7448 [==============================] - 8s 1ms/sample - loss: 0.0059 - val_loss: 0.0098\n",
      "Epoch 174/200\n",
      "7408/7448 [============================>.] - ETA: 0s - loss: 0.0059\n",
      "Epoch 00174: loss improved from 0.00590 to 0.00589, saving model to training/weight.h5\n",
      "7448/7448 [==============================] - 9s 1ms/sample - loss: 0.0059 - val_loss: 0.0104\n",
      "Epoch 175/200\n",
      "7424/7448 [============================>.] - ETA: 0s - loss: 0.0059\n",
      "Epoch 00175: loss did not improve from 0.00589\n",
      "7448/7448 [==============================] - 8s 1ms/sample - loss: 0.0059 - val_loss: 0.0103\n",
      "Epoch 176/200\n",
      "7424/7448 [============================>.] - ETA: 0s - loss: 0.0059\n",
      "Epoch 00176: loss improved from 0.00589 to 0.00587, saving model to training/weight.h5\n",
      "7448/7448 [==============================] - 9s 1ms/sample - loss: 0.0059 - val_loss: 0.0099\n",
      "Epoch 177/200\n",
      "7424/7448 [============================>.] - ETA: 0s - loss: 0.0059\n",
      "Epoch 00177: loss did not improve from 0.00587\n",
      "7448/7448 [==============================] - 8s 1ms/sample - loss: 0.0059 - val_loss: 0.0100\n",
      "Epoch 178/200\n",
      "7424/7448 [============================>.] - ETA: 0s - loss: 0.0059\n",
      "Epoch 00178: loss did not improve from 0.00587\n",
      "7448/7448 [==============================] - 8s 1ms/sample - loss: 0.0059 - val_loss: 0.0096\n",
      "Epoch 179/200\n",
      "7440/7448 [============================>.] - ETA: 0s - loss: 0.0059\n",
      "Epoch 00179: loss did not improve from 0.00587\n",
      "7448/7448 [==============================] - 8s 1ms/sample - loss: 0.0059 - val_loss: 0.0094\n",
      "Epoch 180/200\n",
      "7408/7448 [============================>.] - ETA: 0s - loss: 0.0060\n",
      "Epoch 00180: loss did not improve from 0.00587\n",
      "7448/7448 [==============================] - 8s 1ms/sample - loss: 0.0060 - val_loss: 0.0094\n",
      "Epoch 181/200\n",
      "7408/7448 [============================>.] - ETA: 0s - loss: 0.0059\n",
      "Epoch 00181: loss did not improve from 0.00587\n",
      "7448/7448 [==============================] - 8s 1ms/sample - loss: 0.0059 - val_loss: 0.0100\n",
      "Epoch 182/200\n",
      "7448/7448 [==============================] - ETA: 0s - loss: 0.0059\n",
      "Epoch 00182: loss did not improve from 0.00587\n",
      "7448/7448 [==============================] - 8s 1ms/sample - loss: 0.0059 - val_loss: 0.0091\n",
      "Epoch 183/200\n",
      "7448/7448 [==============================] - ETA: 0s - loss: 0.0059\n",
      "Epoch 00183: loss did not improve from 0.00587\n",
      "7448/7448 [==============================] - 8s 1ms/sample - loss: 0.0059 - val_loss: 0.0094\n",
      "Epoch 184/200\n",
      "7424/7448 [============================>.] - ETA: 0s - loss: 0.0059\n",
      "Epoch 00184: loss did not improve from 0.00587\n",
      "7448/7448 [==============================] - 10s 1ms/sample - loss: 0.0059 - val_loss: 0.0093\n",
      "Epoch 185/200\n",
      "7440/7448 [============================>.] - ETA: 0s - loss: 0.0059\n",
      "Epoch 00185: loss did not improve from 0.00587\n",
      "7448/7448 [==============================] - 10s 1ms/sample - loss: 0.0059 - val_loss: 0.0092\n",
      "Epoch 186/200\n",
      "7448/7448 [==============================] - ETA: 0s - loss: 0.0059\n",
      "Epoch 00186: loss did not improve from 0.00587\n",
      "7448/7448 [==============================] - 8s 1ms/sample - loss: 0.0059 - val_loss: 0.0089\n",
      "Epoch 187/200\n",
      "7448/7448 [==============================] - ETA: 0s - loss: 0.0059\n",
      "Epoch 00187: loss did not improve from 0.00587\n",
      "7448/7448 [==============================] - 9s 1ms/sample - loss: 0.0059 - val_loss: 0.0096\n",
      "Epoch 188/200\n",
      "7440/7448 [============================>.] - ETA: 0s - loss: 0.0059\n",
      "Epoch 00188: loss did not improve from 0.00587\n",
      "7448/7448 [==============================] - 8s 1ms/sample - loss: 0.0059 - val_loss: 0.0101\n",
      "Epoch 189/200\n",
      "7424/7448 [============================>.] - ETA: 0s - loss: 0.0059\n",
      "Epoch 00189: loss improved from 0.00587 to 0.00586, saving model to training/weight.h5\n",
      "7448/7448 [==============================] - 9s 1ms/sample - loss: 0.0059 - val_loss: 0.0092\n",
      "Epoch 190/200\n",
      "7448/7448 [==============================] - ETA: 0s - loss: 0.0058\n",
      "Epoch 00190: loss improved from 0.00586 to 0.00583, saving model to training/weight.h5\n",
      "7448/7448 [==============================] - 9s 1ms/sample - loss: 0.0058 - val_loss: 0.0093\n",
      "Epoch 191/200\n",
      "7424/7448 [============================>.] - ETA: 0s - loss: 0.0059\n",
      "Epoch 00191: loss did not improve from 0.00583\n",
      "7448/7448 [==============================] - 8s 1ms/sample - loss: 0.0059 - val_loss: 0.0094\n",
      "Epoch 192/200\n",
      "7424/7448 [============================>.] - ETA: 0s - loss: 0.0058\n",
      "Epoch 00192: loss did not improve from 0.00583\n",
      "7448/7448 [==============================] - 8s 1ms/sample - loss: 0.0058 - val_loss: 0.0094\n",
      "Epoch 193/200\n",
      "7440/7448 [============================>.] - ETA: 0s - loss: 0.0059\n",
      "Epoch 00193: loss did not improve from 0.00583\n",
      "7448/7448 [==============================] - 8s 1ms/sample - loss: 0.0059 - val_loss: 0.0098\n",
      "Epoch 194/200\n",
      "7440/7448 [============================>.] - ETA: 0s - loss: 0.0059\n",
      "Epoch 00194: loss did not improve from 0.00583\n",
      "7448/7448 [==============================] - 9s 1ms/sample - loss: 0.0059 - val_loss: 0.0092\n",
      "Epoch 195/200\n",
      "7408/7448 [============================>.] - ETA: 0s - loss: 0.0059\n",
      "Epoch 00195: loss did not improve from 0.00583\n",
      "7448/7448 [==============================] - 8s 1ms/sample - loss: 0.0059 - val_loss: 0.0096\n",
      "Epoch 196/200\n",
      "7448/7448 [==============================] - ETA: 0s - loss: 0.0058\n",
      "Epoch 00196: loss improved from 0.00583 to 0.00583, saving model to training/weight.h5\n",
      "7448/7448 [==============================] - 9s 1ms/sample - loss: 0.0058 - val_loss: 0.0094\n",
      "Epoch 197/200\n",
      "7440/7448 [============================>.] - ETA: 0s - loss: 0.0059\n",
      "Epoch 00197: loss did not improve from 0.00583\n",
      "7448/7448 [==============================] - 8s 1ms/sample - loss: 0.0059 - val_loss: 0.0096\n",
      "Epoch 198/200\n",
      "7424/7448 [============================>.] - ETA: 0s - loss: 0.0059\n",
      "Epoch 00198: loss did not improve from 0.00583\n",
      "7448/7448 [==============================] - 9s 1ms/sample - loss: 0.0059 - val_loss: 0.0090\n",
      "Epoch 199/200\n",
      "7440/7448 [============================>.] - ETA: 0s - loss: 0.0058\n",
      "Epoch 00199: loss improved from 0.00583 to 0.00582, saving model to training/weight.h5\n",
      "7448/7448 [==============================] - 9s 1ms/sample - loss: 0.0058 - val_loss: 0.0090\n",
      "Epoch 200/200\n",
      "7424/7448 [============================>.] - ETA: 0s - loss: 0.0058\n",
      "Epoch 00200: loss improved from 0.00582 to 0.00582, saving model to training/weight.h5\n",
      "7448/7448 [==============================] - 12s 2ms/sample - loss: 0.0058 - val_loss: 0.0096\n"
     ]
    },
    {
     "data": {
      "image/png": "[encoded data removed]",
      "text/plain": [
       "<Figure size 1500x750 with 1 Axes>"
      ]
     },
     "metadata": {
      "needs_background": "light"
     },
     "output_type": "display_data"
    },
    {
     "ename": "KeyError",
     "evalue": "'accuracy'",
     "output_type": "error",
     "traceback": [
      "\u001b[0;31m---------------------------------------------------------------------------\u001b[0m",
      "\u001b[0;31mKeyError\u001b[0m                                  Traceback (most recent call last)",
      "\u001b[0;32m<ipython-input-16-4786591811d8>\u001b[0m in \u001b[0;36m<module>\u001b[0;34m\u001b[0m\n\u001b[1;32m     23\u001b[0m     \u001b[0mplt\u001b[0m\u001b[0;34m.\u001b[0m\u001b[0mfigure\u001b[0m\u001b[0;34m(\u001b[0m\u001b[0mfigsize\u001b[0m\u001b[0;34m=\u001b[0m\u001b[0;34m(\u001b[0m\u001b[0;36m10\u001b[0m\u001b[0;34m,\u001b[0m\u001b[0;36m5\u001b[0m\u001b[0;34m)\u001b[0m\u001b[0;34m,\u001b[0m\u001b[0mdpi\u001b[0m\u001b[0;34m=\u001b[0m\u001b[0;36m150\u001b[0m\u001b[0;34m)\u001b[0m\u001b[0;34m\u001b[0m\u001b[0;34m\u001b[0m\u001b[0m\n\u001b[1;32m     24\u001b[0m     \u001b[0mplt\u001b[0m\u001b[0;34m.\u001b[0m\u001b[0mylim\u001b[0m\u001b[0;34m(\u001b[0m\u001b[0;34m[\u001b[0m\u001b[0;36m0.5\u001b[0m\u001b[0;34m,\u001b[0m\u001b[0;36m1\u001b[0m\u001b[0;34m]\u001b[0m\u001b[0;34m)\u001b[0m\u001b[0;34m\u001b[0m\u001b[0;34m\u001b[0m\u001b[0m\n\u001b[0;32m---> 25\u001b[0;31m     \u001b[0mplt\u001b[0m\u001b[0;34m.\u001b[0m\u001b[0mplot\u001b[0m\u001b[0;34m(\u001b[0m\u001b[0mhistory\u001b[0m\u001b[0;34m.\u001b[0m\u001b[0mhistory\u001b[0m\u001b[0;34m[\u001b[0m\u001b[0;34m'accuracy'\u001b[0m\u001b[0;34m]\u001b[0m\u001b[0;34m)\u001b[0m\u001b[0;34m\u001b[0m\u001b[0;34m\u001b[0m\u001b[0m\n\u001b[0m\u001b[1;32m     26\u001b[0m     \u001b[0mplt\u001b[0m\u001b[0;34m.\u001b[0m\u001b[0mplot\u001b[0m\u001b[0;34m(\u001b[0m\u001b[0mhistory\u001b[0m\u001b[0;34m.\u001b[0m\u001b[0mhistory\u001b[0m\u001b[0;34m[\u001b[0m\u001b[0;34m'val_accuracy'\u001b[0m\u001b[0;34m]\u001b[0m\u001b[0;34m)\u001b[0m\u001b[0;34m\u001b[0m\u001b[0;34m\u001b[0m\u001b[0m\n\u001b[1;32m     27\u001b[0m     \u001b[0mplt\u001b[0m\u001b[0;34m.\u001b[0m\u001b[0mtitle\u001b[0m\u001b[0;34m(\u001b[0m\u001b[0;34m'model train accuracy vs validation accuracy'\u001b[0m\u001b[0;34m)\u001b[0m\u001b[0;34m\u001b[0m\u001b[0;34m\u001b[0m\u001b[0m\n",
      "\u001b[0;31mKeyError\u001b[0m: 'accuracy'"
     ]
    },
    {
     "data": {
      "text/plain": [
       "<Figure size 432x288 with 0 Axes>"
      ]
     },
     "metadata": {},
     "output_type": "display_data"
    },
    {
     "data": {
      "image/png": "[encoded data removed]",
      "text/plain": [
       "<Figure size 1500x750 with 1 Axes>"
      ]
     },
     "metadata": {
      "needs_background": "light"
     },
     "output_type": "display_data"
    }
   ],
   "source": [
    "\n",
    "if(is_train):\n",
    "    \n",
    "    #callback operation\n",
    "    filepath='training/weight.h5'\n",
    "    checkpoint=ModelCheckpoint(filepath,monitor='loss',verbose=1,save_best_only=True)\n",
    "    #fit the model\n",
    "    #run_opts = tf.RunOptions(report_tensor_allocations_upon_oom = True)\n",
    "    history=vae.fit(network_input, network_input,batch_size=16,validation_split=0.05,epochs=200, shuffle=True,callbacks=[checkpoint])\n",
    "    \n",
    "    #plot loss vs epochs\n",
    "    plt.figure(figsize=(10,5),dpi=150)\n",
    "    plt.ylim([0,0.5])\n",
    "    plt.plot(history.history['loss'])\n",
    "    plt.plot(history.history['val_loss'])\n",
    "    plt.title('model train loss vs validation loss')\n",
    "    plt.ylabel('loss')\n",
    "    plt.xlabel('epoch')\n",
    "    plt.legend(['train', 'validation'], loc='upper right')\n",
    "    plt.show()\n",
    "    plt.savefig('training/loss.png')\n",
    "    \n",
    "    #plot a\n",
    "    plt.figure(figsize=(10,5),dpi=150)\n",
    "    plt.ylim([0.5,1])\n",
    "    plt.plot(history.history['accuracy'])\n",
    "    plt.plot(history.history['val_accuracy'])\n",
    "    plt.title('model train accuracy vs validation accuracy')\n",
    "    plt.ylabel('loss')\n",
    "    plt.xlabel('epoch')\n",
    "    plt.legend(['train', 'validation'], loc='upper right')\n",
    "    plt.show()\n",
    "    plt.savefig('training/accuracy.png')"
   ]
  },
  {
   "cell_type": "code",
   "execution_count": 17,
   "metadata": {
    "execution": {
     "iopub.execute_input": "2021-03-03T04:30:51.962833Z",
     "iopub.status.busy": "2021-03-03T04:30:51.961658Z",
     "iopub.status.idle": "2021-03-03T04:30:53.460937Z",
     "shell.execute_reply": "2021-03-03T04:30:53.459871Z"
    },
    "papermill": {
     "duration": 9.888461,
     "end_time": "2021-03-03T04:30:53.461059",
     "exception": false,
     "start_time": "2021-03-03T04:30:43.572598",
     "status": "completed"
    },
    "tags": []
   },
   "outputs": [],
   "source": [
    "rand_vecs = np.random.normal(0.0, 1.0, (10, latent_dim))\n",
    "x_enc = np.squeeze(enc.predict(network_input)[2])\n",
    "x_mean = np.mean(x_enc, axis=0)\n",
    "x_stds = np.std(x_enc, axis=0)\n",
    "x_cov = np.cov((x_enc - x_mean).T)\n",
    "u, s, v = np.linalg.svd(x_cov)\n",
    "e = np.sqrt(s)\n",
    "x_vecs = x_mean + np.dot(rand_vecs * e, v)\n",
    "np.save('input.npy',x_vecs)"
   ]
  },
  {
   "cell_type": "code",
   "execution_count": 18,
   "metadata": {
    "execution": {
     "iopub.execute_input": "2021-03-03T04:31:10.419986Z",
     "iopub.status.busy": "2021-03-03T04:31:10.418808Z",
     "iopub.status.idle": "2021-03-03T04:31:10.421996Z",
     "shell.execute_reply": "2021-03-03T04:31:10.421470Z"
    },
    "papermill": {
     "duration": 8.360037,
     "end_time": "2021-03-03T04:31:10.422084",
     "exception": false,
     "start_time": "2021-03-03T04:31:02.062047",
     "status": "completed"
    },
    "tags": []
   },
   "outputs": [],
   "source": [
    "\n",
    "sort_stds=np.sort(x_stds)[::-1]\n",
    "index_stds=np.zeros((x_stds.shape))\n",
    "\n",
    "\n",
    "for i in range(sort_stds.shape[0]):\n",
    "    index_stds[i]=int(np.where(x_stds==sort_stds[i])[0][0])\n",
    "index_stds=index_stds.astype(np.int32)\n",
    "np.save('index.npy',index_stds)\n"
   ]
  },
  {
   "cell_type": "code",
   "execution_count": 19,
   "metadata": {
    "execution": {
     "iopub.execute_input": "2021-03-03T04:31:27.461702Z",
     "iopub.status.busy": "2021-03-03T04:31:27.461108Z",
     "iopub.status.idle": "2021-03-03T04:31:30.677845Z",
     "shell.execute_reply": "2021-03-03T04:31:30.678290Z"
    },
    "papermill": {
     "duration": 11.608325,
     "end_time": "2021-03-03T04:31:30.678416",
     "exception": false,
     "start_time": "2021-03-03T04:31:19.070091",
     "status": "completed"
    },
    "tags": []
   },
   "outputs": [
    {
     "data": {
      "image/png": "[encoded data removed]",
      "text/plain": [
       "<Figure size 432x288 with 1 Axes>"
      ]
     },
     "metadata": {
      "needs_background": "light"
     },
     "output_type": "display_data"
    },
    {
     "data": {
      "image/png": "[encoded data removed]",
      "text/plain": [
       "<Figure size 432x288 with 1 Axes>"
      ]
     },
     "metadata": {
      "needs_background": "light"
     },
     "output_type": "display_data"
    },
    {
     "data": {
      "image/png": "[encoded data removed]",
      "text/plain": [
       "<Figure size 432x288 with 1 Axes>"
      ]
     },
     "metadata": {
      "needs_background": "light"
     },
     "output_type": "display_data"
    }
   ],
   "source": [
    "import scipy.stats as stats\n",
    "proj=x_enc[:,index_stds[0:3]]\n",
    "means=x_mean[index_stds[0:3]]\n",
    "stds=sort_stds[0:3]\n",
    "\n",
    "for i in range(3):\n",
    "    pdf=stats.norm.pdf(proj[0:500,i],means[i],stds[i])\n",
    "    plt.xlim(-10,10)\n",
    "    plt.bar(proj[0:500,i],pdf)\n",
    "    plt.show()\n",
    "    "
   ]
  },
  {
   "cell_type": "code",
   "execution_count": 20,
   "metadata": {
    "execution": {
     "iopub.execute_input": "2021-03-03T04:31:48.176559Z",
     "iopub.status.busy": "2021-03-03T04:31:48.175791Z",
     "iopub.status.idle": "2021-03-03T04:31:48.178760Z",
     "shell.execute_reply": "2021-03-03T04:31:48.179320Z"
    },
    "papermill": {
     "duration": 8.893576,
     "end_time": "2021-03-03T04:31:48.179444",
     "exception": false,
     "start_time": "2021-03-03T04:31:39.285868",
     "status": "completed"
    },
    "tags": []
   },
   "outputs": [
    {
     "data": {
      "text/plain": [
       "(7840, 100)"
      ]
     },
     "execution_count": 20,
     "metadata": {},
     "output_type": "execute_result"
    }
   ],
   "source": [
    "x_enc.shape"
   ]
  },
  {
   "cell_type": "code",
   "execution_count": 21,
   "metadata": {
    "execution": {
     "iopub.execute_input": "2021-03-03T04:32:04.745169Z",
     "iopub.status.busy": "2021-03-03T04:32:04.742786Z",
     "iopub.status.idle": "2021-03-03T04:32:06.976578Z",
     "shell.execute_reply": "2021-03-03T04:32:06.975742Z"
    },
    "papermill": {
     "duration": 10.37061,
     "end_time": "2021-03-03T04:32:06.976681",
     "exception": false,
     "start_time": "2021-03-03T04:31:56.606071",
     "status": "completed"
    },
    "tags": []
   },
   "outputs": [
    {
     "data": {
      "image/png": "[encoded data removed]",
      "text/plain": [
       "<Figure size 900x600 with 1 Axes>"
      ]
     },
     "metadata": {
      "needs_background": "light"
     },
     "output_type": "display_data"
    },
    {
     "data": {
      "text/plain": [
       "<Figure size 432x288 with 0 Axes>"
      ]
     },
     "metadata": {},
     "output_type": "display_data"
    },
    {
     "data": {
      "image/png": "[encoded data removed]",
      "text/plain": [
       "<Figure size 900x600 with 1 Axes>"
      ]
     },
     "metadata": {
      "needs_background": "light"
     },
     "output_type": "display_data"
    },
    {
     "data": {
      "text/plain": [
       "<Figure size 432x288 with 0 Axes>"
      ]
     },
     "metadata": {},
     "output_type": "display_data"
    },
    {
     "data": {
      "image/png": "[encoded data removed]",
      "text/plain": [
       "<Figure size 900x600 with 1 Axes>"
      ]
     },
     "metadata": {
      "needs_background": "light"
     },
     "output_type": "display_data"
    },
    {
     "data": {
      "text/plain": [
       "<Figure size 432x288 with 0 Axes>"
      ]
     },
     "metadata": {},
     "output_type": "display_data"
    },
    {
     "data": {
      "image/png": "[encoded data removed]",
      "text/plain": [
       "<Figure size 900x600 with 2 Axes>"
      ]
     },
     "metadata": {
      "needs_background": "light"
     },
     "output_type": "display_data"
    },
    {
     "data": {
      "text/plain": [
       "<Figure size 432x288 with 0 Axes>"
      ]
     },
     "metadata": {},
     "output_type": "display_data"
    },
    {
     "data": {
      "image/png": "[encoded data removed]",
      "text/plain": [
       "<Figure size 900x600 with 1 Axes>"
      ]
     },
     "metadata": {
      "needs_background": "light"
     },
     "output_type": "display_data"
    },
    {
     "data": {
      "text/plain": [
       "<Figure size 432x288 with 0 Axes>"
      ]
     },
     "metadata": {},
     "output_type": "display_data"
    }
   ],
   "source": [
    "import matplotlib.pyplot as plt\n",
    "import seaborn as sns\n",
    "#mean graph\n",
    "plt.figure(dpi=150)\n",
    "plt.bar(range(latent_dim),x_mean)\n",
    "plt.ylabel('mean')\n",
    "plt.xlabel('encoded representation')\n",
    "plt.show()\n",
    "plt.savefig('analysis/x_mean.png')\n",
    "\n",
    "#std_dev graph\n",
    "plt.figure(dpi=150)\n",
    "plt.bar(range(latent_dim),(x_stds))\n",
    "plt.ylabel('std_dev')\n",
    "plt.xlabel('encoded representation')\n",
    "plt.show()\n",
    "plt.savefig('analysis/std_dev.png')\n",
    "\n",
    "#sorted std_dev graph\n",
    "plt.figure(dpi=150)\n",
    "plt.bar(range(latent_dim),(sorted(list(x_stds),reverse=True)))\n",
    "plt.ylabel('sorted std_dev')\n",
    "plt.xlabel('encoded representation')\n",
    "plt.show()\n",
    "plt.savefig('analysis/sorted_std_dev.png')\n",
    "\n",
    "#covariance matrix\n",
    "plt.figure(dpi=150)\n",
    "sns.heatmap(x_cov[0:latent_dim,0:latent_dim], fmt='g')\n",
    "plt.show()\n",
    "plt.savefig('analysis/cov_matrix.png')\n",
    "\n",
    "#eigen values\n",
    "plt.figure(dpi=150)\n",
    "plt.bar(range(latent_dim),e)\n",
    "plt.ylabel('eigen values')\n",
    "plt.xlabel('encoded representation')\n",
    "plt.show()\n",
    "plt.savefig('analysis/eigen.png')\n"
   ]
  },
  {
   "cell_type": "code",
   "execution_count": 22,
   "metadata": {
    "execution": {
     "iopub.execute_input": "2021-03-03T04:32:23.983837Z",
     "iopub.status.busy": "2021-03-03T04:32:23.982987Z",
     "iopub.status.idle": "2021-03-03T04:32:26.146173Z",
     "shell.execute_reply": "2021-03-03T04:32:26.145220Z"
    },
    "papermill": {
     "duration": 11.002991,
     "end_time": "2021-03-03T04:32:26.146309",
     "exception": false,
     "start_time": "2021-03-03T04:32:15.143318",
     "status": "completed"
    },
    "tags": []
   },
   "outputs": [
    {
     "name": "stdout",
     "output_type": "stream",
     "text": [
      "(16, 96, 35)\n",
      "(16, 96, 35)\n",
      "(16, 96, 35)\n",
      "(16, 96, 35)\n",
      "(16, 96, 35)\n",
      "(16, 96, 35)\n",
      "(16, 96, 35)\n",
      "(16, 96, 35)\n",
      "(16, 96, 35)\n",
      "(16, 96, 35)\n"
     ]
    }
   ],
   "source": [
    "data=np.zeros((16,96,96))\n",
    "for i in range(x_vecs.shape[0]):\n",
    "    song=dec.predict(x_vecs[i:i+1])[0]\n",
    "    print(song.shape)\n",
    "    data[:,:,30:65]=song\n",
    "    midi.samples_to_midi(data,str(i)+'.mid',16,0.15)"
   ]
  },
  {
   "cell_type": "code",
   "execution_count": 23,
   "metadata": {
    "execution": {
     "iopub.execute_input": "2021-03-03T04:32:43.166413Z",
     "iopub.status.busy": "2021-03-03T04:32:43.165460Z",
     "iopub.status.idle": "2021-03-03T04:32:43.175749Z",
     "shell.execute_reply": "2021-03-03T04:32:43.175324Z"
    },
    "papermill": {
     "duration": 8.52717,
     "end_time": "2021-03-03T04:32:43.175845",
     "exception": false,
     "start_time": "2021-03-03T04:32:34.648675",
     "status": "completed"
    },
    "tags": []
   },
   "outputs": [
    {
     "data": {
      "text/plain": [
       "(16, 96, 35)"
      ]
     },
     "execution_count": 23,
     "metadata": {},
     "output_type": "execute_result"
    }
   ],
   "source": [
    "song=enc.predict(network_input[1].reshape(1,16,96,35))[2]\n",
    "song=dec.predict(song.reshape(1,100))[0]\n",
    "song.shape"
   ]
  },
  {
   "cell_type": "code",
   "execution_count": 24,
   "metadata": {
    "execution": {
     "iopub.execute_input": "2021-03-03T04:33:00.433694Z",
     "iopub.status.busy": "2021-03-03T04:33:00.432836Z",
     "iopub.status.idle": "2021-03-03T04:33:00.642113Z",
     "shell.execute_reply": "2021-03-03T04:33:00.641688Z"
    },
    "papermill": {
     "duration": 8.808108,
     "end_time": "2021-03-03T04:33:00.642241",
     "exception": false,
     "start_time": "2021-03-03T04:32:51.834133",
     "status": "completed"
    },
    "tags": []
   },
   "outputs": [],
   "source": [
    "data=np.zeros((16,96,96))\n",
    "data[:,:,30:65]=song\n",
    "midi.samples_to_midi(data,'output.mid',16,0.1)"
   ]
  },
  {
   "cell_type": "code",
   "execution_count": 25,
   "metadata": {
    "execution": {
     "iopub.execute_input": "2021-03-03T04:33:17.221911Z",
     "iopub.status.busy": "2021-03-03T04:33:17.221306Z",
     "iopub.status.idle": "2021-03-03T04:33:17.224084Z",
     "shell.execute_reply": "2021-03-03T04:33:17.224558Z"
    },
    "papermill": {
     "duration": 8.479959,
     "end_time": "2021-03-03T04:33:17.224674",
     "exception": false,
     "start_time": "2021-03-03T04:33:08.744715",
     "status": "completed"
    },
    "tags": []
   },
   "outputs": [
    {
     "data": {
      "text/plain": [
       "(16, 96, 35)"
      ]
     },
     "execution_count": 25,
     "metadata": {},
     "output_type": "execute_result"
    }
   ],
   "source": [
    "song.shape"
   ]
  },
  {
   "cell_type": "code",
   "execution_count": 26,
   "metadata": {
    "execution": {
     "iopub.execute_input": "2021-03-03T04:33:34.604985Z",
     "iopub.status.busy": "2021-03-03T04:33:34.604151Z",
     "iopub.status.idle": "2021-03-03T04:33:34.786879Z",
     "shell.execute_reply": "2021-03-03T04:33:34.786367Z"
    },
    "papermill": {
     "duration": 8.711587,
     "end_time": "2021-03-03T04:33:34.786973",
     "exception": false,
     "start_time": "2021-03-03T04:33:26.075386",
     "status": "completed"
    },
    "tags": []
   },
   "outputs": [],
   "source": [
    "song=network_input[40]\n",
    "data[:,:,30:65]=song\n",
    "midi.samples_to_midi(data,'output.mid',16,0.07)"
   ]
  },
  {
   "cell_type": "code",
   "execution_count": 27,
   "metadata": {
    "execution": {
     "iopub.execute_input": "2021-03-03T04:33:51.698563Z",
     "iopub.status.busy": "2021-03-03T04:33:51.697769Z",
     "iopub.status.idle": "2021-03-03T04:33:51.930073Z",
     "shell.execute_reply": "2021-03-03T04:33:51.928931Z"
    },
    "papermill": {
     "duration": 8.756513,
     "end_time": "2021-03-03T04:33:51.930216",
     "exception": false,
     "start_time": "2021-03-03T04:33:43.173703",
     "status": "completed"
    },
    "tags": []
   },
   "outputs": [],
   "source": [
    "\n",
    "dec.save_weights('decoder_weights.h5')"
   ]
  }
 ],
 "metadata": {
  "kernelspec": {
   "display_name": "Python 3",
   "language": "python",
   "name": "python3"
  },
  "language_info": {
   "codemirror_mode": {
    "name": "ipython",
    "version": 3
   },
   "file_extension": ".py",
   "mimetype": "text/x-python",
   "name": "python",
   "nbconvert_exporter": "python",
   "pygments_lexer": "ipython3",
   "version": "3.7.6"
  },
  "papermill": {
   "duration": 2008.992433,
   "end_time": "2021-03-03T04:34:02.752914",
   "environment_variables": {},
   "exception": null,
   "input_path": "__notebook__.ipynb",
   "output_path": "__notebook__.ipynb",
   "parameters": {},
   "start_time": "2021-03-03T04:00:33.760481",
   "version": "2.1.0"
  }
 },
 "nbformat": 4,
 "nbformat_minor": 4
}
