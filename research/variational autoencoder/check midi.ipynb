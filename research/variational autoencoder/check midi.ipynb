{
 "cells": [
  {
   "cell_type": "code",
   "execution_count": 11,
   "metadata": {},
   "outputs": [],
   "source": [
    "from mido import Message, MidiFile, MidiTrack\n",
    "outfile = MidiFile()\n",
    "track = MidiTrack()\n",
    "outfile.tracks.append(track)\n",
    "#note 70 bajcha 0 time ma\n",
    "track.append(Message('note_on',note=70,velocity=100,time=0))\n",
    "#testai note=60 at time=500\n",
    "track.append(Message('note_on', note=60, velocity=100, time=500))\n",
    "#testai note=80 at time=1000\n",
    "#but they don't stop until note_off is called\n",
    "track.append(Message('note_on',note=80,velocity=127,time=1000))\n",
    "\n",
    "track.append(Message('note_off', note=70, velocity=100, time=1000))\n",
    "track.append(Message('note_off',note=60,velocity=100,time=2000))\n",
    "track.append(Message('note_off',note=80,velocity=100,time=3000))\n",
    "outfile.save(\"test.mid\")\n",
    "\n"
   ]
  },
  {
   "cell_type": "code",
   "execution_count": 13,
   "metadata": {},
   "outputs": [
    {
     "name": "stdout",
     "output_type": "stream",
     "text": [
      "note_on channel=0 note=70 velocity=100 time=0\n",
      "note_on channel=0 note=60 velocity=100 time=500\n",
      "note_on channel=0 note=80 velocity=127 time=1000\n",
      "note_off channel=0 note=70 velocity=100 time=1000\n",
      "note_off channel=0 note=60 velocity=100 time=2000\n",
      "note_off channel=0 note=80 velocity=100 time=3000\n"
     ]
    }
   ],
   "source": [
    "#note all channel is 0\n",
    "#yet multiple notes played at same time\n",
    "for _,track in enumerate(outfile.tracks):\n",
    "    for msg in track:\n",
    "        print(msg)"
   ]
  }
 ],
 "metadata": {
  "kernelspec": {
   "display_name": "Python 3",
   "language": "python",
   "name": "python3"
  },
  "language_info": {
   "codemirror_mode": {
    "name": "ipython",
    "version": 3
   },
   "file_extension": ".py",
   "mimetype": "text/x-python",
   "name": "python",
   "nbconvert_exporter": "python",
   "pygments_lexer": "ipython3",
   "version": "3.7.4"
  }
 },
 "nbformat": 4,
 "nbformat_minor": 2
}
