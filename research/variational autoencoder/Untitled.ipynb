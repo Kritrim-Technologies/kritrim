{
 "cells": [
  {
   "cell_type": "code",
   "execution_count": 3,
   "metadata": {
    "scrolled": true
   },
   "outputs": [],
   "source": [
    "import midi\n",
    "import os\n",
    "import numpy as np\n",
    "import util\n",
    "directory=['dataset/folk']\n"
   ]
  },
  {
   "cell_type": "code",
   "execution_count": 2,
   "metadata": {},
   "outputs": [
    {
     "name": "stdout",
     "output_type": "stream",
     "text": [
      "Saving 6990 samples...\n",
      "Done\n"
     ]
    }
   ],
   "source": [
    "\n",
    "midi.load_songs(directory)"
   ]
  },
  {
   "cell_type": "code",
   "execution_count": 4,
   "metadata": {},
   "outputs": [],
   "source": [
    "samples=np.load('samples.npy')\n",
    "lengths=np.load('lengths.npy')\n",
    "types=np.load('genre.npy')"
   ]
  },
  {
   "cell_type": "code",
   "execution_count": null,
   "metadata": {},
   "outputs": [],
   "source": [
    "min_note,max_note=util.transpose_range(samples)\n",
    "print(\"Max_note:\",max_note)\n",
    "print(\"Min_note:\",min_note)"
   ]
  },
  {
   "cell_type": "code",
   "execution_count": null,
   "metadata": {},
   "outputs": [],
   "source": [
    "samples=samples[:,:,30:65]"
   ]
  },
  {
   "cell_type": "code",
   "execution_count": null,
   "metadata": {},
   "outputs": [],
   "source": [
    "np.save('samples.npy',samples)"
   ]
  },
  {
   "cell_type": "code",
   "execution_count": null,
   "metadata": {},
   "outputs": [],
   "source": [
    "np.save('min_max_note.npy',[30,65])"
   ]
  },
  {
   "cell_type": "code",
   "execution_count": null,
   "metadata": {},
   "outputs": [],
   "source": [
    "samples.shape"
   ]
  },
  {
   "cell_type": "code",
   "execution_count": null,
   "metadata": {},
   "outputs": [],
   "source": [
    "samples=np.load('samples.npy')"
   ]
  },
  {
   "cell_type": "code",
   "execution_count": null,
   "metadata": {},
   "outputs": [],
   "source": [
    "samples.shape"
   ]
  },
  {
   "cell_type": "code",
   "execution_count": null,
   "metadata": {},
   "outputs": [],
   "source": []
  },
  {
   "cell_type": "code",
   "execution_count": null,
   "metadata": {},
   "outputs": [],
   "source": [
    "for i,j,k in os.walk('dataset'):\n",
    "    print(j)"
   ]
  },
  {
   "cell_type": "code",
   "execution_count": 5,
   "metadata": {},
   "outputs": [
    {
     "data": {
      "text/plain": [
       "(820,)"
      ]
     },
     "execution_count": 5,
     "metadata": {},
     "output_type": "execute_result"
    }
   ],
   "source": [
    "types.shape"
   ]
  },
  {
   "cell_type": "code",
   "execution_count": 6,
   "metadata": {},
   "outputs": [
    {
     "data": {
      "text/plain": [
       "(76795, 96, 96)"
      ]
     },
     "execution_count": 6,
     "metadata": {},
     "output_type": "execute_result"
    }
   ],
   "source": [
    "samples.shape"
   ]
  },
  {
   "cell_type": "code",
   "execution_count": 8,
   "metadata": {},
   "outputs": [
    {
     "data": {
      "text/plain": [
       "(820,)"
      ]
     },
     "execution_count": 8,
     "metadata": {},
     "output_type": "execute_result"
    }
   ],
   "source": [
    "lengths.shape"
   ]
  },
  {
   "cell_type": "code",
   "execution_count": 1,
   "metadata": {},
   "outputs": [],
   "source": [
    "from mido import MidiFile,MidiTrack,Message"
   ]
  },
  {
   "cell_type": "code",
   "execution_count": 2,
   "metadata": {},
   "outputs": [],
   "source": [
    "mid = MidiFile('a.mid')\n"
   ]
  },
  {
   "cell_type": "code",
   "execution_count": 3,
   "metadata": {},
   "outputs": [
    {
     "data": {
      "text/plain": [
       "[<midi track '' 325 messages>]"
      ]
     },
     "execution_count": 3,
     "metadata": {},
     "output_type": "execute_result"
    }
   ],
   "source": [
    "mid.tracks"
   ]
  },
  {
   "cell_type": "code",
   "execution_count": 8,
   "metadata": {},
   "outputs": [
    {
     "name": "stdout",
     "output_type": "stream",
     "text": [
      "note_on channel=0 note=71 velocity=127 time=1060\n",
      "note_off channel=0 note=71 velocity=127 time=0\n",
      "note_on channel=0 note=55 velocity=127 time=180\n",
      "note_off channel=0 note=55 velocity=127 time=0\n",
      "note_on channel=0 note=71 velocity=127 time=0\n",
      "note_off channel=0 note=71 velocity=127 time=0\n",
      "note_on channel=0 note=59 velocity=127 time=180\n",
      "note_off channel=0 note=59 velocity=127 time=0\n",
      "note_on channel=0 note=62 velocity=127 time=160\n",
      "note_off channel=0 note=62 velocity=127 time=0\n",
      "note_on channel=0 note=72 velocity=127 time=140\n",
      "note_off channel=0 note=72 velocity=127 time=0\n",
      "note_on channel=0 note=67 velocity=127 time=20\n",
      "note_off channel=0 note=67 velocity=127 time=0\n",
      "note_on channel=0 note=57 velocity=127 time=180\n",
      "note_off channel=0 note=57 velocity=127 time=0\n",
      "note_on channel=0 note=74 velocity=127 time=0\n",
      "note_off channel=0 note=74 velocity=127 time=0\n",
      "note_on channel=0 note=72 velocity=127 time=40\n",
      "note_off channel=0 note=72 velocity=127 time=0\n",
      "note_on channel=0 note=74 velocity=127 time=60\n",
      "note_off channel=0 note=74 velocity=127 time=0\n",
      "note_on channel=0 note=72 velocity=127 time=60\n",
      "note_off channel=0 note=72 velocity=127 time=0\n",
      "note_on channel=0 note=67 velocity=127 time=20\n",
      "note_off channel=0 note=67 velocity=127 time=0\n",
      "note_on channel=0 note=66 velocity=127 time=140\n",
      "note_off channel=0 note=66 velocity=127 time=0\n",
      "note_on channel=0 note=71 velocity=127 time=200\n",
      "note_off channel=0 note=71 velocity=127 time=0\n",
      "note_on channel=0 note=64 velocity=127 time=20\n",
      "note_off channel=0 note=64 velocity=127 time=0\n",
      "note_on channel=0 note=72 velocity=127 time=40\n",
      "note_off channel=0 note=72 velocity=127 time=0\n",
      "note_on channel=0 note=74 velocity=127 time=80\n",
      "note_off channel=0 note=74 velocity=127 time=0\n",
      "note_on channel=0 note=59 velocity=127 time=40\n",
      "note_off channel=0 note=59 velocity=127 time=0\n",
      "note_on channel=0 note=62 velocity=127 time=160\n",
      "note_off channel=0 note=62 velocity=127 time=0\n",
      "note_on channel=0 note=66 velocity=127 time=180\n",
      "note_off channel=0 note=66 velocity=127 time=0\n",
      "note_on channel=0 note=67 velocity=127 time=180\n",
      "note_off channel=0 note=67 velocity=127 time=0\n",
      "note_on channel=0 note=71 velocity=127 time=180\n",
      "note_off channel=0 note=71 velocity=127 time=0\n",
      "note_on channel=0 note=74 velocity=127 time=160\n",
      "note_off channel=0 note=74 velocity=127 time=0\n",
      "note_on channel=0 note=59 velocity=127 time=180\n",
      "note_off channel=0 note=59 velocity=127 time=0\n",
      "note_on channel=0 note=78 velocity=127 time=0\n",
      "note_off channel=0 note=78 velocity=127 time=0\n",
      "note_on channel=0 note=79 velocity=127 time=180\n",
      "note_off channel=0 note=79 velocity=127 time=0\n",
      "note_on channel=0 note=60 velocity=127 time=180\n",
      "note_off channel=0 note=60 velocity=127 time=0\n",
      "note_on channel=0 note=76 velocity=127 time=0\n",
      "note_off channel=0 note=76 velocity=127 time=0\n",
      "note_on channel=0 note=79 velocity=127 time=160\n",
      "note_off channel=0 note=79 velocity=127 time=0\n",
      "note_on channel=0 note=74 velocity=127 time=160\n",
      "note_off channel=0 note=74 velocity=127 time=0\n",
      "note_on channel=0 note=59 velocity=127 time=20\n",
      "note_off channel=0 note=59 velocity=127 time=0\n",
      "note_on channel=0 note=79 velocity=127 time=160\n",
      "note_off channel=0 note=79 velocity=127 time=0\n",
      "note_on channel=0 note=72 velocity=127 time=180\n",
      "note_off channel=0 note=72 velocity=127 time=0\n",
      "note_on channel=0 note=57 velocity=127 time=40\n",
      "note_off channel=0 note=57 velocity=127 time=0\n",
      "note_on channel=0 note=71 velocity=127 time=140\n",
      "note_off channel=0 note=71 velocity=127 time=0\n",
      "note_on channel=0 note=66 velocity=127 time=200\n",
      "note_off channel=0 note=66 velocity=127 time=0\n",
      "note_on channel=0 note=72 velocity=127 time=0\n",
      "note_off channel=0 note=72 velocity=127 time=0\n",
      "note_on channel=0 note=81 velocity=127 time=160\n",
      "note_off channel=0 note=81 velocity=127 time=0\n",
      "note_on channel=0 note=55 velocity=127 time=180\n",
      "note_off channel=0 note=55 velocity=127 time=0\n",
      "note_on channel=0 note=72 velocity=127 time=0\n",
      "note_off channel=0 note=72 velocity=127 time=0\n",
      "note_on channel=0 note=71 velocity=127 time=160\n",
      "note_off channel=0 note=71 velocity=127 time=0\n",
      "note_on channel=0 note=59 velocity=127 time=200\n",
      "note_off channel=0 note=59 velocity=127 time=0\n",
      "note_on channel=0 note=69 velocity=127 time=0\n",
      "note_off channel=0 note=69 velocity=127 time=0\n",
      "note_on channel=0 note=67 velocity=127 time=160\n",
      "note_off channel=0 note=67 velocity=127 time=0\n",
      "note_on channel=0 note=71 velocity=127 time=180\n",
      "note_off channel=0 note=71 velocity=127 time=0\n",
      "note_on channel=0 note=62 velocity=127 time=20\n",
      "note_off channel=0 note=62 velocity=127 time=0\n",
      "note_on channel=0 note=54 velocity=127 time=160\n",
      "note_off channel=0 note=54 velocity=127 time=0\n",
      "note_on channel=0 note=52 velocity=127 time=180\n",
      "note_off channel=0 note=52 velocity=127 time=0\n",
      "note_on channel=0 note=67 velocity=127 time=0\n",
      "note_off channel=0 note=67 velocity=127 time=0\n",
      "note_on channel=0 note=50 velocity=127 time=140\n",
      "note_off channel=0 note=50 velocity=127 time=0\n",
      "note_on channel=0 note=49 velocity=127 time=200\n",
      "note_off channel=0 note=49 velocity=127 time=0\n",
      "note_on channel=0 note=64 velocity=127 time=20\n",
      "note_off channel=0 note=64 velocity=127 time=0\n",
      "note_on channel=0 note=76 velocity=127 time=160\n",
      "note_off channel=0 note=76 velocity=127 time=0\n",
      "note_on channel=0 note=52 velocity=127 time=180\n",
      "note_off channel=0 note=52 velocity=127 time=0\n",
      "note_on channel=0 note=69 velocity=127 time=0\n",
      "note_off channel=0 note=69 velocity=127 time=0\n",
      "note_on channel=0 note=76 velocity=127 time=180\n",
      "note_off channel=0 note=76 velocity=127 time=0\n",
      "note_on channel=0 note=57 velocity=127 time=160\n",
      "note_off channel=0 note=57 velocity=127 time=0\n",
      "note_on channel=0 note=67 velocity=127 time=20\n",
      "note_off channel=0 note=67 velocity=127 time=0\n",
      "note_on channel=0 note=66 velocity=127 time=180\n",
      "note_off channel=0 note=66 velocity=127 time=0\n",
      "note_on channel=0 note=49 velocity=127 time=160\n",
      "note_off channel=0 note=49 velocity=127 time=0\n",
      "note_on channel=0 note=67 velocity=127 time=0\n",
      "note_off channel=0 note=67 velocity=127 time=0\n",
      "note_on channel=0 note=76 velocity=127 time=160\n",
      "note_off channel=0 note=76 velocity=127 time=0\n",
      "note_on channel=0 note=50 velocity=127 time=200\n",
      "note_off channel=0 note=50 velocity=127 time=0\n",
      "note_on channel=0 note=67 velocity=127 time=0\n",
      "note_off channel=0 note=67 velocity=127 time=0\n",
      "note_on channel=0 note=66 velocity=127 time=160\n",
      "note_off channel=0 note=66 velocity=127 time=0\n",
      "note_on channel=0 note=54 velocity=127 time=200\n",
      "note_off channel=0 note=54 velocity=127 time=0\n",
      "note_on channel=0 note=64 velocity=127 time=0\n",
      "note_off channel=0 note=64 velocity=127 time=0\n",
      "note_on channel=0 note=62 velocity=127 time=160\n",
      "note_off channel=0 note=62 velocity=127 time=0\n",
      "note_on channel=0 note=64 velocity=127 time=180\n",
      "note_off channel=0 note=64 velocity=127 time=0\n",
      "note_on channel=0 note=57 velocity=127 time=20\n",
      "note_off channel=0 note=57 velocity=127 time=0\n",
      "note_on channel=0 note=66 velocity=127 time=140\n",
      "note_off channel=0 note=66 velocity=127 time=0\n",
      "note_on channel=0 note=48 velocity=127 time=180\n",
      "note_off channel=0 note=48 velocity=127 time=0\n",
      "note_on channel=0 note=67 velocity=127 time=0\n",
      "note_off channel=0 note=67 velocity=127 time=0\n",
      "note_on channel=0 note=66 velocity=127 time=180\n",
      "note_off channel=0 note=66 velocity=127 time=0\n",
      "note_on channel=0 note=47 velocity=127 time=200\n",
      "note_off channel=0 note=47 velocity=127 time=0\n",
      "note_on channel=0 note=50 velocity=127 time=0\n",
      "note_off channel=0 note=50 velocity=127 time=0\n",
      "note_on channel=0 note=67 velocity=127 time=0\n",
      "note_off channel=0 note=67 velocity=127 time=0\n",
      "note_on channel=0 note=69 velocity=127 time=180\n",
      "note_off channel=0 note=69 velocity=127 time=0\n",
      "note_on channel=0 note=67 velocity=127 time=160\n",
      "note_off channel=0 note=67 velocity=127 time=0\n",
      "note_on channel=0 note=55 velocity=127 time=20\n",
      "note_off channel=0 note=55 velocity=127 time=0\n",
      "note_on channel=0 note=69 velocity=127 time=140\n",
      "note_off channel=0 note=69 velocity=127 time=0\n",
      "note_on channel=0 note=71 velocity=127 time=180\n",
      "note_off channel=0 note=71 velocity=127 time=0\n",
      "note_on channel=0 note=45 velocity=127 time=20\n",
      "note_off channel=0 note=45 velocity=127 time=0\n",
      "note_on channel=0 note=69 velocity=127 time=20\n",
      "note_off channel=0 note=69 velocity=127 time=0\n",
      "note_on channel=0 note=71 velocity=127 time=80\n",
      "note_off channel=0 note=71 velocity=127 time=0\n",
      "note_on channel=0 note=69 velocity=127 time=60\n",
      "note_off channel=0 note=69 velocity=127 time=0\n",
      "note_on channel=0 note=54 velocity=127 time=180\n",
      "note_off channel=0 note=54 velocity=127 time=0\n",
      "note_on channel=0 note=67 velocity=127 time=180\n",
      "note_off channel=0 note=67 velocity=127 time=0\n",
      "note_on channel=0 note=69 velocity=127 time=80\n",
      "note_off channel=0 note=69 velocity=127 time=0\n",
      "note_on channel=0 note=55 velocity=127 time=100\n",
      "note_off channel=0 note=55 velocity=127 time=0\n",
      "note_on channel=0 note=71 velocity=127 time=0\n",
      "note_off channel=0 note=71 velocity=127 time=0\n",
      "note_on channel=0 note=43 velocity=127 time=180\n",
      "note_off channel=0 note=43 velocity=127 time=0\n",
      "note_on channel=0 note=47 velocity=127 time=160\n",
      "note_off channel=0 note=47 velocity=127 time=0\n",
      "note_on channel=0 note=50 velocity=127 time=200\n",
      "note_off channel=0 note=50 velocity=127 time=0\n",
      "note_on channel=0 note=55 velocity=127 time=160\n",
      "note_off channel=0 note=55 velocity=127 time=0\n",
      "note_on channel=0 note=71 velocity=127 time=180\n",
      "note_off channel=0 note=71 velocity=127 time=0\n",
      "note_on channel=0 note=57 velocity=127 time=180\n",
      "note_off channel=0 note=57 velocity=127 time=0\n",
      "note_on channel=0 note=76 velocity=127 time=0\n",
      "note_off channel=0 note=76 velocity=127 time=0\n",
      "note_on channel=0 note=59 velocity=127 time=60\n",
      "note_off channel=0 note=59 velocity=127 time=0\n",
      "note_on channel=0 note=75 velocity=127 time=80\n",
      "note_off channel=0 note=75 velocity=127 time=0\n",
      "note_on channel=0 note=59 velocity=127 time=20\n",
      "note_off channel=0 note=59 velocity=127 time=0\n",
      "note_on channel=0 note=60 velocity=127 time=180\n",
      "note_off channel=0 note=60 velocity=127 time=0\n",
      "note_on channel=0 note=76 velocity=127 time=0\n",
      "note_off channel=0 note=76 velocity=127 time=0\n",
      "note_on channel=0 note=78 velocity=127 time=160\n",
      "note_off channel=0 note=78 velocity=127 time=0\n",
      "note_on channel=0 note=55 velocity=127 time=180\n",
      "note_off channel=0 note=55 velocity=127 time=0\n",
      "note_on channel=0 note=64 velocity=127 time=0\n",
      "note_off channel=0 note=64 velocity=127 time=0\n",
      "note_on channel=0 note=76 velocity=127 time=0\n",
      "note_off channel=0 note=76 velocity=127 time=0\n",
      "note_on channel=0 note=78 velocity=127 time=160\n",
      "note_off channel=0 note=78 velocity=127 time=0\n",
      "note_on channel=0 note=79 velocity=127 time=180\n",
      "note_off channel=0 note=79 velocity=127 time=0\n",
      "note_on channel=0 note=57 velocity=127 time=40\n",
      "note_off channel=0 note=57 velocity=127 time=0\n",
      "note_on channel=0 note=78 velocity=127 time=40\n",
      "note_off channel=0 note=78 velocity=127 time=0\n",
      "note_on channel=0 note=79 velocity=127 time=40\n",
      "note_off channel=0 note=79 velocity=127 time=0\n",
      "note_on channel=0 note=78 velocity=127 time=60\n",
      "note_off channel=0 note=78 velocity=127 time=0\n",
      "note_on channel=0 note=59 velocity=127 time=200\n",
      "note_off channel=0 note=59 velocity=127 time=0\n",
      "note_on channel=0 note=63 velocity=127 time=20\n",
      "note_off channel=0 note=63 velocity=127 time=0\n",
      "note_on channel=0 note=76 velocity=127 time=180\n",
      "note_off channel=0 note=76 velocity=127 time=0\n",
      "note_on channel=0 note=78 velocity=127 time=80\n",
      "note_off channel=0 note=78 velocity=127 time=0\n",
      "note_on channel=0 note=64 velocity=127 time=60\n",
      "note_off channel=0 note=64 velocity=127 time=0\n",
      "note_on channel=0 note=79 velocity=127 time=20\n",
      "note_off channel=0 note=79 velocity=127 time=0\n",
      "note_on channel=0 note=59 velocity=127 time=180\n",
      "note_off channel=0 note=59 velocity=127 time=0\n",
      "note_on channel=0 note=55 velocity=127 time=160\n",
      "note_off channel=0 note=55 velocity=127 time=0\n",
      "note_on channel=0 note=59 velocity=127 time=180\n",
      "note_off channel=0 note=59 velocity=127 time=0\n",
      "note_on channel=0 note=52 velocity=127 time=200\n",
      "note_off channel=0 note=52 velocity=127 time=0\n",
      "note_on channel=0 note=78 velocity=127 time=160\n",
      "note_off channel=0 note=78 velocity=127 time=0\n",
      "note_on channel=0 note=55 velocity=127 time=180\n",
      "note_off channel=0 note=55 velocity=127 time=0\n",
      "note_on channel=0 note=76 velocity=127 time=0\n",
      "note_off channel=0 note=76 velocity=127 time=0\n",
      "note_on channel=0 note=74 velocity=127 time=180\n",
      "note_off channel=0 note=74 velocity=127 time=0\n",
      "note_on channel=0 note=73 velocity=127 time=200\n",
      "note_off channel=0 note=73 velocity=127 time=0\n",
      "note_on channel=0 note=57 velocity=127 time=20\n",
      "note_off channel=0 note=57 velocity=127 time=0\n",
      "note_on channel=0 note=76 velocity=127 time=160\n",
      "note_off channel=0 note=76 velocity=127 time=0\n",
      "note_on channel=0 note=59 velocity=127 time=180\n",
      "note_off channel=0 note=59 velocity=127 time=0\n",
      "note_on channel=0 note=71 velocity=127 time=0\n",
      "note_off channel=0 note=71 velocity=127 time=0\n",
      "note_on channel=0 note=76 velocity=127 time=180\n",
      "note_off channel=0 note=76 velocity=127 time=0\n",
      "note_on channel=0 note=61 velocity=127 time=180\n",
      "note_off channel=0 note=61 velocity=127 time=0\n",
      "note_on channel=0 note=69 velocity=127 time=0\n",
      "note_off channel=0 note=69 velocity=127 time=0\n",
      "note_on channel=0 note=79 velocity=127 time=180\n",
      "note_off channel=0 note=79 velocity=127 time=0\n",
      "note_on channel=0 note=57 velocity=127 time=180\n",
      "note_off channel=0 note=57 velocity=127 time=0\n",
      "note_on channel=0 note=78 velocity=127 time=0\n",
      "note_off channel=0 note=78 velocity=127 time=0\n",
      "note_on channel=0 note=76 velocity=127 time=180\n",
      "note_off channel=0 note=76 velocity=127 time=0\n",
      "note_on channel=0 note=62 velocity=127 time=200\n",
      "note_off channel=0 note=62 velocity=127 time=0\n",
      "note_on channel=0 note=78 velocity=127 time=0\n",
      "note_off channel=0 note=78 velocity=127 time=0\n",
      "note_on channel=0 note=50 velocity=127 time=20\n",
      "note_off channel=0 note=50 velocity=127 time=0\n",
      "note_on channel=0 note=81 velocity=127 time=140\n",
      "note_off channel=0 note=81 velocity=127 time=0\n",
      "note_on channel=0 note=76 velocity=127 time=180\n",
      "note_off channel=0 note=76 velocity=127 time=0\n",
      "note_on channel=0 note=52 velocity=127 time=20\n",
      "note_off channel=0 note=52 velocity=127 time=0\n",
      "note_on channel=0 note=81 velocity=127 time=180\n",
      "note_off channel=0 note=81 velocity=127 time=0\n",
      "note_on channel=0 note=54 velocity=127 time=180\n",
      "note_off channel=0 note=54 velocity=127 time=0\n",
      "note_on channel=0 note=74 velocity=127 time=0\n",
      "note_off channel=0 note=74 velocity=127 time=0\n",
      "note_on channel=0 note=72 velocity=127 time=160\n",
      "note_off channel=0 note=72 velocity=127 time=0\n",
      "note_on channel=0 note=71 velocity=127 time=180\n",
      "note_off channel=0 note=71 velocity=127 time=0\n",
      "note_on channel=0 note=50 velocity=127 time=20\n"
     ]
    },
    {
     "name": "stdout",
     "output_type": "stream",
     "text": [
      "note_off channel=0 note=50 velocity=127 time=0\n",
      "note_on channel=0 note=69 velocity=127 time=160\n",
      "note_off channel=0 note=69 velocity=127 time=0\n",
      "note_on channel=0 note=55 velocity=127 time=220\n",
      "note_off channel=0 note=55 velocity=127 time=0\n",
      "note_on channel=0 note=71 velocity=127 time=0\n",
      "note_off channel=0 note=71 velocity=127 time=0\n",
      "note_on channel=0 note=74 velocity=127 time=180\n",
      "note_off channel=0 note=74 velocity=127 time=0\n",
      "note_on channel=0 note=69 velocity=127 time=160\n",
      "note_off channel=0 note=69 velocity=127 time=0\n",
      "note_on channel=0 note=60 velocity=127 time=20\n",
      "note_off channel=0 note=60 velocity=127 time=0\n",
      "note_on channel=0 note=74 velocity=127 time=160\n",
      "note_off channel=0 note=74 velocity=127 time=0\n",
      "note_on channel=0 note=59 velocity=127 time=180\n",
      "note_off channel=0 note=59 velocity=127 time=0\n",
      "note_on channel=0 note=67 velocity=127 time=0\n",
      "note_off channel=0 note=67 velocity=127 time=0\n",
      "note_on channel=0 note=74 velocity=127 time=160\n",
      "note_off channel=0 note=74 velocity=127 time=0\n",
      "<meta message end_of_track time=0>\n"
     ]
    }
   ],
   "source": [
    "for _,track in enumerate(mid.tracks):\n",
    "    for msg in track:\n",
    "        print(msg)"
   ]
  },
  {
   "cell_type": "code",
   "execution_count": 9,
   "metadata": {},
   "outputs": [],
   "source": [
    "import pretty_midi"
   ]
  },
  {
   "cell_type": "code",
   "execution_count": 38,
   "metadata": {},
   "outputs": [
    {
     "ename": "AttributeError",
     "evalue": "'list' object has no attribute 'notes'",
     "output_type": "error",
     "traceback": [
      "\u001b[1;31m---------------------------------------------------------------------------\u001b[0m",
      "\u001b[1;31mAttributeError\u001b[0m                            Traceback (most recent call last)",
      "\u001b[1;32m<ipython-input-38-1d6bc60f12da>\u001b[0m in \u001b[0;36m<module>\u001b[1;34m\u001b[0m\n\u001b[0;32m      1\u001b[0m \u001b[0mmidi_data\u001b[0m\u001b[1;33m=\u001b[0m\u001b[0mpretty_midi\u001b[0m\u001b[1;33m.\u001b[0m\u001b[0mPrettyMIDI\u001b[0m\u001b[1;33m(\u001b[0m\u001b[1;34m\"a.mid\"\u001b[0m\u001b[1;33m)\u001b[0m\u001b[1;33m\u001b[0m\u001b[1;33m\u001b[0m\u001b[0m\n\u001b[1;32m----> 2\u001b[1;33m \u001b[0mmidi_data\u001b[0m\u001b[1;33m.\u001b[0m\u001b[0minstruments\u001b[0m\u001b[1;33m.\u001b[0m\u001b[0mnotes\u001b[0m\u001b[1;33m\u001b[0m\u001b[1;33m\u001b[0m\u001b[0m\n\u001b[0m",
      "\u001b[1;31mAttributeError\u001b[0m: 'list' object has no attribute 'notes'"
     ]
    }
   ],
   "source": [
    "midi_data=pretty_midi.PrettyMIDI(\"a.mid\")\n"
   ]
  },
  {
   "cell_type": "code",
   "execution_count": 31,
   "metadata": {},
   "outputs": [
    {
     "ename": "AttributeError",
     "evalue": "'PrettyMIDI' object has no attribute 'notes'",
     "output_type": "error",
     "traceback": [
      "\u001b[1;31m---------------------------------------------------------------------------\u001b[0m",
      "\u001b[1;31mAttributeError\u001b[0m                            Traceback (most recent call last)",
      "\u001b[1;32m<ipython-input-31-eb30d5db2e53>\u001b[0m in \u001b[0;36m<module>\u001b[1;34m\u001b[0m\n\u001b[1;32m----> 1\u001b[1;33m \u001b[0mmidi_data\u001b[0m\u001b[1;33m.\u001b[0m\u001b[0mnotes\u001b[0m\u001b[1;33m\u001b[0m\u001b[1;33m\u001b[0m\u001b[0m\n\u001b[0m",
      "\u001b[1;31mAttributeError\u001b[0m: 'PrettyMIDI' object has no attribute 'notes'"
     ]
    }
   ],
   "source": [
    "midi_data.notes"
   ]
  },
  {
   "cell_type": "code",
   "execution_count": 5,
   "metadata": {},
   "outputs": [
    {
     "data": {
      "text/plain": [
       "(6990, 96, 96)"
      ]
     },
     "execution_count": 5,
     "metadata": {},
     "output_type": "execute_result"
    }
   ],
   "source": [
    "samples.shape"
   ]
  },
  {
   "cell_type": "code",
   "execution_count": null,
   "metadata": {},
   "outputs": [],
   "source": []
  }
 ],
 "metadata": {
  "kernelspec": {
   "display_name": "Python 3",
   "language": "python",
   "name": "python3"
  },
  "language_info": {
   "codemirror_mode": {
    "name": "ipython",
    "version": 3
   },
   "file_extension": ".py",
   "mimetype": "text/x-python",
   "name": "python",
   "nbconvert_exporter": "python",
   "pygments_lexer": "ipython3",
   "version": "3.7.4"
  }
 },
 "nbformat": 4,
 "nbformat_minor": 2
}
