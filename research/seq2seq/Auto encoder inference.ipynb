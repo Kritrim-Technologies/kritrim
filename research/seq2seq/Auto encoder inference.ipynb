{
 "cells": [
  {
   "cell_type": "code",
   "execution_count": 18,
   "metadata": {},
   "outputs": [],
   "source": [
    "import numpy as np\n",
    "import os"
   ]
  },
  {
   "cell_type": "code",
   "execution_count": 19,
   "metadata": {},
   "outputs": [],
   "source": [
    "X=np.load('samples.npy')"
   ]
  },
  {
   "cell_type": "code",
   "execution_count": 20,
   "metadata": {},
   "outputs": [],
   "source": [
    "from tensorflow.keras.layers import Input,LSTM,Dropout,Dense\n",
    "from tensorflow.keras.models import Model,load_model"
   ]
  },
  {
   "cell_type": "code",
   "execution_count": 21,
   "metadata": {},
   "outputs": [
    {
     "name": "stdout",
     "output_type": "stream",
     "text": [
      "Model: \"model_5\"\n",
      "__________________________________________________________________________________________________\n",
      "Layer (type)                    Output Shape         Param #     Connected to                     \n",
      "==================================================================================================\n",
      "input_3 (InputLayer)            [(None, None, 96)]   0                                            \n",
      "__________________________________________________________________________________________________\n",
      "lstm_4 (LSTM)                   (None, None, 1024)   4591616     input_3[0][0]                    \n",
      "__________________________________________________________________________________________________\n",
      "dropout_1 (Dropout)             (None, None, 1024)   0           lstm_4[0][0]                     \n",
      "__________________________________________________________________________________________________\n",
      "input_4 (InputLayer)            [(None, None, 96)]   0                                            \n",
      "__________________________________________________________________________________________________\n",
      "lstm_5 (LSTM)                   [(None, 1024), (None 8392704     dropout_1[0][0]                  \n",
      "__________________________________________________________________________________________________\n",
      "lstm_6 (LSTM)                   (None, None, 1024)   4591616     input_4[0][0]                    \n",
      "                                                                 lstm_5[0][1]                     \n",
      "                                                                 lstm_5[0][2]                     \n",
      "__________________________________________________________________________________________________\n",
      "lstm_7 (LSTM)                   [(None, None, 1024), 8392704     lstm_6[0][0]                     \n",
      "__________________________________________________________________________________________________\n",
      "dense_1 (Dense)                 (None, None, 96)     98400       lstm_7[0][0]                     \n",
      "==================================================================================================\n",
      "Total params: 26,067,040\n",
      "Trainable params: 26,067,040\n",
      "Non-trainable params: 0\n",
      "__________________________________________________________________________________________________\n"
     ]
    }
   ],
   "source": [
    "model=load_model('autoencodermodel.h5')\n",
    "model.load_weights('bestweight.hdf5')\n",
    "model.summary()"
   ]
  },
  {
   "cell_type": "code",
   "execution_count": 22,
   "metadata": {},
   "outputs": [],
   "source": [
    "#encoder\n",
    "#input layer\n",
    "#encoder_input=Input(shape=(None,X.shape[2]))\n",
    "encoder_input=model.layers[0].output\n",
    "encoder_output,state_h,state_c=model.layers[4].output\n",
    "encoder_states=[state_h,state_c]\n",
    "encoder_model=Model(encoder_input,encoder_states)"
   ]
  },
  {
   "cell_type": "code",
   "execution_count": 23,
   "metadata": {},
   "outputs": [],
   "source": [
    "#decoder\n",
    "#define decoder inputs\n",
    "decoder_input=model.input[1]\n",
    "decoder_state_input_h=Input(shape=(1024,))\n",
    "decoder_state_input_c=Input(shape=(1024,))\n",
    "decoder_states_inputs=[decoder_state_input_h,decoder_state_input_c]\n",
    "\n",
    "##Layer 1\n",
    "decoder_LSTM1=model.layers[5]\n",
    "decoder_outputs=decoder_LSTM1(decoder_input,initial_state=decoder_states_inputs)\n",
    "\n",
    "#lstm layer 2\n",
    "decoder_LSTM2=model.layers[6]\n",
    "decoder_outputs,state_h,state_c=decoder_LSTM2(decoder_outputs)\n",
    "decoder_states=[state_h,state_c]\n",
    "\n",
    "#softmax layer\n",
    "decoder_dense=model.layers[7]\n",
    "decoder_outputs=decoder_dense(decoder_outputs)\n",
    "\n",
    "#define a decoder model\n",
    "decoder_model=Model([decoder_input]+decoder_states_inputs,\n",
    "                    [decoder_outputs]+decoder_states)\n"
   ]
  },
  {
   "cell_type": "code",
   "execution_count": 24,
   "metadata": {},
   "outputs": [
    {
     "name": "stdout",
     "output_type": "stream",
     "text": [
      "[[[0. 0. 0. 0. 0. 0. 0. 0. 0. 0. 0. 0. 0. 0. 0. 0. 0. 0. 0. 0. 0. 0. 0.\n",
      "   0. 0. 0. 0. 0. 0. 0. 0. 0. 0. 0. 0. 0. 0. 0. 0. 0. 0. 0. 0. 1. 0. 0.\n",
      "   0. 0. 0. 0. 0. 0. 0. 0. 0. 0. 0. 0. 0. 0. 0. 0. 0. 0. 0. 0. 0. 0. 0.\n",
      "   0. 0. 0. 0. 0. 0. 0. 0. 0. 0. 0. 0. 0. 0. 0. 0. 0. 0. 0. 0. 0. 0. 0.\n",
      "   0. 0. 0. 0.]]]\n"
     ]
    }
   ],
   "source": [
    "#random selection starting input vector\n",
    "start=np.random.randint(0,X.shape[0]-1)\n",
    "#prediction\n",
    "state_value=encoder_model.predict(X[start,:,:].reshape(1,X.shape[1],X.shape[2]))\n",
    "#recursively predict\n",
    "target_seq=np.zeros((1,1,X.shape[2]))\n",
    "target_seq[0,0,0]=1\n",
    "decoded=[]\n",
    "for i in range(96*16):\n",
    "    output_tokens,h,c=decoder_model.predict([target_seq]+state_value)\n",
    "   \n",
    "    sampled_token_index=np.argmax(output_tokens[0,-1,:])\n",
    "    decoded.append(sampled_token_index)\n",
    "    target_seq=np.zeros((1,1,X.shape[2]))\n",
    "    target_seq[0,0,sampled_token_index]=1\n",
    "    state_value=[h,c]\n",
    "print(target_seq)\n"
   ]
  },
  {
   "cell_type": "code",
   "execution_count": 36,
   "metadata": {},
   "outputs": [
    {
     "name": "stdout",
     "output_type": "stream",
     "text": [
      "1536\n"
     ]
    }
   ],
   "source": [
    "print(len(decoded))\n",
    "song=np.empty((10,96,96))\n",
    "number_of_batch=96*(int(len(decoded)/96))\n",
    "\n",
    "for j in range(10):\n",
    "    for i in range(96*j,96*(1+j)):\n",
    "        k=i%96 \n",
    "        song[j,k,decoded[i]]=40\n",
    "       "
   ]
  },
  {
   "cell_type": "code",
   "execution_count": 37,
   "metadata": {},
   "outputs": [],
   "source": [
    "song.dtype=np.int8"
   ]
  },
  {
   "cell_type": "code",
   "execution_count": 38,
   "metadata": {},
   "outputs": [],
   "source": [
    "import midi\n",
    "import pretty_midi\n",
    "midi_data=midi.samples_to_midi(song,fs=2)\n",
    "midi_data.write('song1.mid')\n"
   ]
  },
  {
   "cell_type": "code",
   "execution_count": 1,
   "metadata": {},
   "outputs": [],
   "source": [
    "import midi"
   ]
  },
  {
   "cell_type": "code",
   "execution_count": null,
   "metadata": {},
   "outputs": [],
   "source": []
  }
 ],
 "metadata": {
  "kernelspec": {
   "display_name": "Python 3",
   "language": "python",
   "name": "python3"
  },
  "language_info": {
   "codemirror_mode": {
    "name": "ipython",
    "version": 3
   },
   "file_extension": ".py",
   "mimetype": "text/x-python",
   "name": "python",
   "nbconvert_exporter": "python",
   "pygments_lexer": "ipython3",
   "version": "3.7.4"
  }
 },
 "nbformat": 4,
 "nbformat_minor": 2
}
